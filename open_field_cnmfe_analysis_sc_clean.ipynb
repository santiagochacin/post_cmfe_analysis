{
 "cells": [
  {
   "cell_type": "code",
   "execution_count": null,
   "metadata": {},
   "outputs": [],
   "source": [
    "from IPython.core.display import display, HTML\n",
    "display(HTML(\"<style>.container { width:90% !important; }</style>\"))"
   ]
  },
  {
   "cell_type": "code",
   "execution_count": null,
   "metadata": {},
   "outputs": [],
   "source": [
    "import sys\n",
    "import os\n",
    "import glob\n",
    "import importlib\n",
    "import multiprocessing as mp\n",
    "import itertools\n",
    "import math\n",
    "import random \n",
    "import numpy as np\n",
    "\n",
    "from matplotlib import pyplot as plt\n",
    "from PIL import Image\n",
    "import scipy.sparse as sparse\n",
    "import scipy.io as sio\n",
    "import scipy.stats as stats\n",
    "import scipy.spatial.distance as dist\n",
    "from tqdm import tqdm\n",
    "import pandas as pd\n",
    "import tables\n",
    "#import deepdish as dd\n",
    "\n",
    "sys.path.append('/Users/johnmarshall/Documents/MATLAB/CNMF_E_jjm/python_wrapper/')\n",
    "sys.path.append('/Users/johnmarshall/caiman_data/post_cnmfe_analysis')\n",
    "import miniscope_analysis as ma \n",
    "import python_utils_jjm as utils_jjm\n",
    "import jjm_post_cnmfe_fns as jjm\n",
    "import align_msCam_tobehavior as align_tracking\n",
    "\n",
    "from importlib import reload\n",
    "%matplotlib inline"
   ]
  },
  {
   "cell_type": "code",
   "execution_count": null,
   "metadata": {},
   "outputs": [],
   "source": [
    "def plot_traces(neuron_idxs, frame_range, data_to_plot, normalize=True, fsize=(15,10)):\n",
    "    \"\"\"Inputs:\n",
    "    neuron_idxs : list of neuron indicies to plot, e.g. range(1, 2) or [3, 50, 90]\n",
    "    frame_range : tuple (start_frame, end_frame)\n",
    "    data_to_plot : list of data to plot (e.g. ['C', 'C_raw'])        \n",
    "    \"\"\"\n",
    "    plt.figure(figsize=fsize)\n",
    "    plt.axis('on')\n",
    "    arrays_to_plot = [np.array(results.cnmfe_results[data]) for data in data_to_plot]\n",
    "    for idx in neurons_idx:\n",
    "        for array in arrays_to_plot:\n",
    "            if normalize==True:\n",
    "                plt.plot(utils_jjm.normalize(array[idx, frame_range[0]:frame_range[1]]) + idx)\n",
    "            else:\n",
    "                plt.plot(array[idx, frames[0]:frames[1]] + idx)\n",
    "    return()"
   ]
  },
  {
   "cell_type": "code",
   "execution_count": null,
   "metadata": {},
   "outputs": [],
   "source": [
    "results_file = r'C:\\Users\\Santiago PC\\Documents\\miniscope_data\\demos\\memmap_0000memmap_0000_resized_motion_corrected_source_extraction\\frames_1_1000\\LOGS_30-Jan_14_46_09\\out.mat'\n",
    "results = ma.miniscope_session(results_file)"
   ]
  },
  {
   "cell_type": "code",
   "execution_count": null,
   "metadata": {},
   "outputs": [],
   "source": [
    "img_file = '/Users/Santiago PC/Documents/MiniscopeMovies/GRIN032/memmap_0000memmap_0023_resized_source_extraction_20-01-09.187/H17_M30_S22msCam2_f29.tif'\n",
    "img_from_file = plt.imread(img_file)\n",
    "plt.imshow(img_from_file, cmap='gray')"
   ]
  },
  {
   "cell_type": "code",
   "execution_count": null,
   "metadata": {},
   "outputs": [],
   "source": [
    "%matplotlib inline\n",
    "neurons_idx = range(150)\n",
    "plt.rcParams['figure.figsize'] = [5, 5]\n",
    "coordinates = utils_jjm.plot_contours(results.cnmfe_results['A'].todense(), np.transpose(img_from_file), list_to_plot=neurons_idx, display_numbers=True, maxthr=.4,cmap='gray', colors='r')"
   ]
  },
  {
   "cell_type": "code",
   "execution_count": null,
   "metadata": {},
   "outputs": [],
   "source": [
    "def chunks(lst, n):\n",
    "    \"\"\"Yield successive n-sized chunks from lst.\"\"\"\n",
    "    for i in range(0, len(lst), n):\n",
    "        yield lst[i:i + n]\n",
    "def bin_correlation_rel_dist(results,frame_division,threshold,coordinates):\n",
    "    threshold_list = []\n",
    "    yes_no = []\n",
    "    block_list = []\n",
    "    block_nt_CC = []\n",
    "    vid_length = len(results.transpose())\n",
    "    CoM = []\n",
    "    rel_dist = []\n",
    "    \n",
    "    for neuron in coordinates:\n",
    "        CoM.append(neuron['CoM'])\n",
    "    for neuron1 in CoM:\n",
    "        for neuron2 in CoM:\n",
    "            if neuron1[0] != neuron2[0]:\n",
    "                rel_dist.append(math.sqrt(((neuron1[0] - neuron2[0])**2) + ((neuron1[1] - neuron2[1])**2)))\n",
    "    rel_dist_df = pd.DataFrame(rel_dist)\n",
    "    \n",
    "    for neuron in results:\n",
    "        for moment in neuron:\n",
    "            if moment >= threshold:\n",
    "                threshold_list.append(1)\n",
    "            else:\n",
    "                threshold_list.append(0)\n",
    "\n",
    "    zero_one = np.asarray(list(chunks(threshold_list, frame_division)))\n",
    "    for chunk in zero_one:\n",
    "        if np.any(chunk > 0.50):\n",
    "            yes_no.append('Yes')\n",
    "        else:\n",
    "            np.any(chunk <= 0.50)\n",
    "            yes_no.append('No')\n",
    "            \n",
    "    for item in yes_no:\n",
    "        if 'Yes' in item:\n",
    "            block_list.extend([1] * frame_division)\n",
    "        else:\n",
    "            block_list.extend([0] * frame_division)\n",
    "    block_neuron_list = (list(chunks(block_list, vid_length)))\n",
    "    \n",
    "    indicies = range(0,len(block_neuron_list))\n",
    "    for neuron_1 in indicies:\n",
    "        for neuron_2 in indicies:\n",
    "            if neuron_1 != neuron_2:\n",
    "                corrcoef = stats.pearsonr(block_neuron_list[neuron_1],block_neuron_list[neuron_2])\n",
    "                block_nt_CC.append(corrcoef)\n",
    "    block_CC_df = pd.DataFrame(block_nt_CC)\n",
    "    return(rel_dist_df, block_CC_df[0], plt.scatter(rel_dist_df, block_CC_df[0]), block_neuron_list)\n"
   ]
  },
  {
   "cell_type": "code",
   "execution_count": null,
   "metadata": {},
   "outputs": [],
   "source": [
    "block_neuron_list = bin_correlation_rel_dist(results.cnmfe_results['C'],5,.75,coordinates)[3]"
   ]
  },
  {
   "cell_type": "code",
   "execution_count": null,
   "metadata": {},
   "outputs": [],
   "source": [
    "#verify blocking\n",
    "plt.plot(block_neuron_list[0])\n",
    "plt.plot(results.cnmfe_results['C'][0])"
   ]
  },
  {
   "cell_type": "code",
   "execution_count": null,
   "metadata": {},
   "outputs": [],
   "source": []
  }
 ],
 "metadata": {
  "kernelspec": {
   "display_name": "Python 3",
   "language": "python",
   "name": "python3"
  },
  "language_info": {
   "codemirror_mode": {
    "name": "ipython",
    "version": 3
   },
   "file_extension": ".py",
   "mimetype": "text/x-python",
   "name": "python",
   "nbconvert_exporter": "python",
   "pygments_lexer": "ipython3",
   "version": "3.6.5"
  }
 },
 "nbformat": 4,
 "nbformat_minor": 2
}
