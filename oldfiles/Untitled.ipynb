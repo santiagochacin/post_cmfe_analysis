{
 "cells": [
  {
   "cell_type": "code",
   "execution_count": 1,
   "metadata": {},
   "outputs": [],
   "source": [
    "import glob"
   ]
  },
  {
   "cell_type": "code",
   "execution_count": 6,
   "metadata": {},
   "outputs": [
    {
     "data": {
      "text/plain": [
       "['/Volumes/My_Passport/cnmfe_analysis_files/GRIN011/memmap_0000memmap_0004_resized_source_extraction_13:05:33.239/frames_1_5000/LOGS_15-Oct_13_10_52/15-Oct_13_23_16.mat_out.mat',\n",
       " '/Volumes/My_Passport/cnmfe_analysis_files/GRIN012/memmap_0000memmap_0004_resized_source_extraction_16:53:56.346/frames_1_5000/LOGS_10-Oct_16_59_56/10-Oct_17_14_59.mat_out.mat',\n",
       " '/Volumes/My_Passport/cnmfe_analysis_files/GRIN013/memmap_0000memmap_0004_resized_source_extraction_11:37:44.733/frames_1_5000/LOGS_10-Oct_11_44_07/10-Oct_11_53_41.mat_out.mat',\n",
       " '/Volumes/My_Passport/cnmfe_analysis_files/GRIN018/memmap_0000memmap_0004_resized_source_extraction_11:15:28.446/frames_1_5000/LOGS_11-Oct_11_21_20/11-Oct_11_33_30.mat_out.mat',\n",
       " '/Volumes/My_Passport/cnmfe_analysis_files/GRIN027/memmap_0000memmap_0004_resized_source_extraction_13:35:14.243/frames_1_5000/LOGS_11-Oct_13_40_54/11-Oct_13_51_17.mat_out.mat']"
      ]
     },
     "execution_count": 6,
     "metadata": {},
     "output_type": "execute_result"
    }
   ],
   "source": [
    "glob.glob('/Volumes/My_Passport/cnmfe_analysis_files/**/**/**/**/*_out.mat')"
   ]
  },
  {
   "cell_type": "code",
   "execution_count": null,
   "metadata": {},
   "outputs": [],
   "source": []
  }
 ],
 "metadata": {
  "kernelspec": {
   "display_name": "Python (caiman)",
   "language": "python",
   "name": "caiman"
  },
  "language_info": {
   "codemirror_mode": {
    "name": "ipython",
    "version": 3
   },
   "file_extension": ".py",
   "mimetype": "text/x-python",
   "name": "python",
   "nbconvert_exporter": "python",
   "pygments_lexer": "ipython3",
   "version": "3.6.8"
  }
 },
 "nbformat": 4,
 "nbformat_minor": 2
}
