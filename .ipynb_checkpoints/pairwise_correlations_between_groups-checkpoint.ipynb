{
 "cells": [
  {
   "cell_type": "code",
   "execution_count": 49,
   "metadata": {},
   "outputs": [
    {
     "data": {
      "text/html": [
       "<style>.container { width:90% !important; }</style>"
      ],
      "text/plain": [
       "<IPython.core.display.HTML object>"
      ]
     },
     "metadata": {},
     "output_type": "display_data"
    }
   ],
   "source": [
    "from IPython.core.display import display, HTML\n",
    "display(HTML(\"<style>.container { width:90% !important; }</style>\"))"
   ]
  },
  {
   "cell_type": "code",
   "execution_count": 87,
   "metadata": {},
   "outputs": [],
   "source": [
    "import numpy as np\n",
    "import pandas as pd\n",
    "import h5py\n",
    "import python_utils_jjm as utils_jjm\n",
    "from tqdm import tqdm\n",
    "from scipy import stats\n",
    "from scipy import signal \n",
    "from importlib import reload\n",
    "from matplotlib import pyplot as plt\n",
    "import itertools"
   ]
  },
  {
   "cell_type": "code",
   "execution_count": 90,
   "metadata": {},
   "outputs": [
    {
     "data": {
      "text/plain": [
       "<module 'python_utils_jjm' from '/Users/johnmarshall/Documents/Analysis/PythonAnalysisScripts/post_cmfe_analysis/python_utils_jjm.py'>"
      ]
     },
     "execution_count": 90,
     "metadata": {},
     "output_type": "execute_result"
    }
   ],
   "source": [
    "reload(utils_jjm)"
   ]
  },
  {
   "cell_type": "code",
   "execution_count": 3,
   "metadata": {},
   "outputs": [],
   "source": [
    "dir_path = '/Volumes/My_Passport/cnmfe_analysis_files/OpenFieldAnalysis/'"
   ]
  },
  {
   "cell_type": "code",
   "execution_count": 5,
   "metadata": {},
   "outputs": [],
   "source": [
    "wt_cells = pd.read_hdf(dir_path+'GRIN026_aligned_to_behavior.h5')"
   ]
  },
  {
   "cell_type": "code",
   "execution_count": 8,
   "metadata": {},
   "outputs": [
    {
     "data": {
      "text/html": [
       "<div>\n",
       "<style scoped>\n",
       "    .dataframe tbody tr th:only-of-type {\n",
       "        vertical-align: middle;\n",
       "    }\n",
       "\n",
       "    .dataframe tbody tr th {\n",
       "        vertical-align: top;\n",
       "    }\n",
       "\n",
       "    .dataframe thead th {\n",
       "        text-align: right;\n",
       "    }\n",
       "</style>\n",
       "<table border=\"1\" class=\"dataframe\">\n",
       "  <thead>\n",
       "    <tr style=\"text-align: right;\">\n",
       "      <th></th>\n",
       "      <th>0</th>\n",
       "      <th>1</th>\n",
       "      <th>2</th>\n",
       "      <th>3</th>\n",
       "      <th>4</th>\n",
       "      <th>5</th>\n",
       "      <th>6</th>\n",
       "      <th>7</th>\n",
       "      <th>8</th>\n",
       "      <th>9</th>\n",
       "      <th>...</th>\n",
       "      <th>50</th>\n",
       "      <th>51</th>\n",
       "      <th>52</th>\n",
       "      <th>53</th>\n",
       "      <th>54</th>\n",
       "      <th>55</th>\n",
       "      <th>56</th>\n",
       "      <th>57</th>\n",
       "      <th>58</th>\n",
       "      <th>59</th>\n",
       "    </tr>\n",
       "  </thead>\n",
       "  <tbody>\n",
       "    <tr>\n",
       "      <th>0</th>\n",
       "      <td>-0.147070</td>\n",
       "      <td>0.099738</td>\n",
       "      <td>-0.052898</td>\n",
       "      <td>-0.200125</td>\n",
       "      <td>-0.349034</td>\n",
       "      <td>-0.242939</td>\n",
       "      <td>0.315951</td>\n",
       "      <td>0.214285</td>\n",
       "      <td>-0.032875</td>\n",
       "      <td>0.258191</td>\n",
       "      <td>...</td>\n",
       "      <td>-0.281094</td>\n",
       "      <td>0.157029</td>\n",
       "      <td>-0.197801</td>\n",
       "      <td>0.437647</td>\n",
       "      <td>-0.337259</td>\n",
       "      <td>1.080832</td>\n",
       "      <td>0.106549</td>\n",
       "      <td>0.367212</td>\n",
       "      <td>-0.005346</td>\n",
       "      <td>-0.614724</td>\n",
       "    </tr>\n",
       "    <tr>\n",
       "      <th>1</th>\n",
       "      <td>-0.157769</td>\n",
       "      <td>0.062357</td>\n",
       "      <td>-0.062444</td>\n",
       "      <td>0.008616</td>\n",
       "      <td>-0.106234</td>\n",
       "      <td>0.050469</td>\n",
       "      <td>0.274135</td>\n",
       "      <td>0.163928</td>\n",
       "      <td>-0.055999</td>\n",
       "      <td>0.224735</td>\n",
       "      <td>...</td>\n",
       "      <td>-0.281094</td>\n",
       "      <td>0.123692</td>\n",
       "      <td>-0.226913</td>\n",
       "      <td>0.345872</td>\n",
       "      <td>-0.357599</td>\n",
       "      <td>1.010578</td>\n",
       "      <td>0.081145</td>\n",
       "      <td>0.309874</td>\n",
       "      <td>-0.054413</td>\n",
       "      <td>0.475239</td>\n",
       "    </tr>\n",
       "    <tr>\n",
       "      <th>2</th>\n",
       "      <td>-0.168119</td>\n",
       "      <td>0.027535</td>\n",
       "      <td>-0.071696</td>\n",
       "      <td>-0.006468</td>\n",
       "      <td>-0.117233</td>\n",
       "      <td>0.026803</td>\n",
       "      <td>0.234711</td>\n",
       "      <td>0.117224</td>\n",
       "      <td>-0.078021</td>\n",
       "      <td>0.192810</td>\n",
       "      <td>...</td>\n",
       "      <td>-0.281094</td>\n",
       "      <td>0.091473</td>\n",
       "      <td>-0.254883</td>\n",
       "      <td>0.260569</td>\n",
       "      <td>-0.376790</td>\n",
       "      <td>0.942825</td>\n",
       "      <td>0.056382</td>\n",
       "      <td>0.254635</td>\n",
       "      <td>-0.100667</td>\n",
       "      <td>0.397210</td>\n",
       "    </tr>\n",
       "    <tr>\n",
       "      <th>3</th>\n",
       "      <td>-0.178131</td>\n",
       "      <td>0.328050</td>\n",
       "      <td>-0.080664</td>\n",
       "      <td>-0.020877</td>\n",
       "      <td>-0.127819</td>\n",
       "      <td>0.004308</td>\n",
       "      <td>0.197541</td>\n",
       "      <td>0.073908</td>\n",
       "      <td>-0.098994</td>\n",
       "      <td>0.162345</td>\n",
       "      <td>...</td>\n",
       "      <td>-0.281094</td>\n",
       "      <td>0.060333</td>\n",
       "      <td>-0.281756</td>\n",
       "      <td>0.181283</td>\n",
       "      <td>-0.394899</td>\n",
       "      <td>0.877484</td>\n",
       "      <td>0.032246</td>\n",
       "      <td>0.201418</td>\n",
       "      <td>-0.144270</td>\n",
       "      <td>0.323523</td>\n",
       "    </tr>\n",
       "    <tr>\n",
       "      <th>4</th>\n",
       "      <td>-0.187815</td>\n",
       "      <td>0.275048</td>\n",
       "      <td>-0.089357</td>\n",
       "      <td>-0.034644</td>\n",
       "      <td>-0.138010</td>\n",
       "      <td>-0.017074</td>\n",
       "      <td>0.162497</td>\n",
       "      <td>0.033734</td>\n",
       "      <td>-0.118967</td>\n",
       "      <td>0.133272</td>\n",
       "      <td>...</td>\n",
       "      <td>-0.281094</td>\n",
       "      <td>0.030238</td>\n",
       "      <td>-0.307575</td>\n",
       "      <td>0.107590</td>\n",
       "      <td>-0.411985</td>\n",
       "      <td>0.814470</td>\n",
       "      <td>0.008720</td>\n",
       "      <td>0.150149</td>\n",
       "      <td>-0.185375</td>\n",
       "      <td>0.253934</td>\n",
       "    </tr>\n",
       "  </tbody>\n",
       "</table>\n",
       "<p>5 rows × 60 columns</p>\n",
       "</div>"
      ],
      "text/plain": [
       "         0         1         2         3         4         5         6   \\\n",
       "0 -0.147070  0.099738 -0.052898 -0.200125 -0.349034 -0.242939  0.315951   \n",
       "1 -0.157769  0.062357 -0.062444  0.008616 -0.106234  0.050469  0.274135   \n",
       "2 -0.168119  0.027535 -0.071696 -0.006468 -0.117233  0.026803  0.234711   \n",
       "3 -0.178131  0.328050 -0.080664 -0.020877 -0.127819  0.004308  0.197541   \n",
       "4 -0.187815  0.275048 -0.089357 -0.034644 -0.138010 -0.017074  0.162497   \n",
       "\n",
       "         7         8         9   ...        50        51        52        53  \\\n",
       "0  0.214285 -0.032875  0.258191  ... -0.281094  0.157029 -0.197801  0.437647   \n",
       "1  0.163928 -0.055999  0.224735  ... -0.281094  0.123692 -0.226913  0.345872   \n",
       "2  0.117224 -0.078021  0.192810  ... -0.281094  0.091473 -0.254883  0.260569   \n",
       "3  0.073908 -0.098994  0.162345  ... -0.281094  0.060333 -0.281756  0.181283   \n",
       "4  0.033734 -0.118967  0.133272  ... -0.281094  0.030238 -0.307575  0.107590   \n",
       "\n",
       "         54        55        56        57        58        59  \n",
       "0 -0.337259  1.080832  0.106549  0.367212 -0.005346 -0.614724  \n",
       "1 -0.357599  1.010578  0.081145  0.309874 -0.054413  0.475239  \n",
       "2 -0.376790  0.942825  0.056382  0.254635 -0.100667  0.397210  \n",
       "3 -0.394899  0.877484  0.032246  0.201418 -0.144270  0.323523  \n",
       "4 -0.411985  0.814470  0.008720  0.150149 -0.185375  0.253934  \n",
       "\n",
       "[5 rows x 60 columns]"
      ]
     },
     "execution_count": 8,
     "metadata": {},
     "output_type": "execute_result"
    }
   ],
   "source": [
    "wt_cells['C_z_scored'].head()"
   ]
  },
  {
   "cell_type": "code",
   "execution_count": 88,
   "metadata": {},
   "outputs": [
    {
     "data": {
      "image/png": "[encoded data removed]",
      "text/plain": [
       "<Figure size 432x288 with 1 Axes>"
      ]
     },
     "metadata": {
      "needs_background": "light"
     },
     "output_type": "display_data"
    }
   ],
   "source": [
    "plt.plot(wt_cells['C_z_scored'][0][800:15000])\n",
    "plt.plot(wt_cells['C_z_scored'][1][800:15000])\n",
    "plt.show()"
   ]
  },
  {
   "cell_type": "code",
   "execution_count": 51,
   "metadata": {},
   "outputs": [
    {
     "name": "stderr",
     "output_type": "stream",
     "text": [
      "\n",
      "0it [00:00, ?it/s]\u001b[A\n",
      "7it [00:00, 65.53it/s]\u001b[A\n",
      "15it [00:00, 68.60it/s]\u001b[A\n",
      "23it [00:00, 70.97it/s]\u001b[A\n",
      "31it [00:00, 72.77it/s]\u001b[A\n",
      "39it [00:00, 74.07it/s]\u001b[A\n",
      "47it [00:00, 75.20it/s]\u001b[A\n",
      "55it [00:00, 75.42it/s]\u001b[A\n",
      "63it [00:00, 76.04it/s]\u001b[A\n",
      "71it [00:00, 75.99it/s]\u001b[A\n",
      "79it [00:01, 76.09it/s]\u001b[A\n",
      "87it [00:01, 74.71it/s]\u001b[A\n",
      "95it [00:01, 74.76it/s]\u001b[A\n",
      "103it [00:01, 75.34it/s]\u001b[A\n",
      "111it [00:01, 75.54it/s]\u001b[A\n",
      "119it [00:01, 75.80it/s]\u001b[A\n",
      "127it [00:01, 75.44it/s]\u001b[A\n",
      "135it [00:01, 74.40it/s]\u001b[A\n",
      "143it [00:01, 73.33it/s]\u001b[A\n",
      "151it [00:02, 74.83it/s]\u001b[A\n",
      "159it [00:02, 75.21it/s]\u001b[A\n",
      "167it [00:02, 75.90it/s]\u001b[A\n",
      "175it [00:02, 76.01it/s]\u001b[A\n",
      "183it [00:02, 75.92it/s]\u001b[A\n",
      "191it [00:02, 75.72it/s]\u001b[A\n",
      "199it [00:02, 76.06it/s]\u001b[A\n",
      "207it [00:02, 76.08it/s]\u001b[A\n",
      "215it [00:02, 73.63it/s]\u001b[A\n",
      "223it [00:02, 72.08it/s]\u001b[A\n",
      "231it [00:03, 71.37it/s]\u001b[A\n",
      "239it [00:03, 71.47it/s]\u001b[A\n",
      "247it [00:03, 72.57it/s]\u001b[A\n",
      "255it [00:03, 72.84it/s]\u001b[A\n",
      "263it [00:03, 72.49it/s]\u001b[A\n",
      "271it [00:03, 72.73it/s]\u001b[A\n",
      "279it [00:03, 72.23it/s]\u001b[A\n",
      "287it [00:03, 72.49it/s]\u001b[A\n",
      "295it [00:03, 72.42it/s]\u001b[A\n",
      "303it [00:04, 72.90it/s]\u001b[A\n",
      "311it [00:04, 74.37it/s]\u001b[A\n",
      "319it [00:04, 70.58it/s]\u001b[A\n",
      "327it [00:04, 67.92it/s]\u001b[A\n",
      "334it [00:04, 68.44it/s]\u001b[A\n",
      "342it [00:04, 69.43it/s]\u001b[A\n",
      "349it [00:04, 69.32it/s]\u001b[A\n",
      "357it [00:04, 70.75it/s]\u001b[A\n",
      "365it [00:04, 72.39it/s]\u001b[A\n",
      "373it [00:05, 71.67it/s]\u001b[A\n",
      "381it [00:05, 72.39it/s]\u001b[A\n",
      "389it [00:05, 73.11it/s]\u001b[A\n",
      "397it [00:05, 74.02it/s]\u001b[A\n",
      "405it [00:05, 74.67it/s]\u001b[A\n",
      "413it [00:05, 73.83it/s]\u001b[A\n",
      "421it [00:05, 73.35it/s]\u001b[A\n",
      "429it [00:05, 73.91it/s]\u001b[A\n",
      "437it [00:05, 74.02it/s]\u001b[A\n",
      "445it [00:06, 74.46it/s]\u001b[A\n",
      "453it [00:06, 74.72it/s]\u001b[A\n",
      "461it [00:06, 74.68it/s]\u001b[A\n",
      "469it [00:06, 74.96it/s]\u001b[A\n",
      "477it [00:06, 75.37it/s]\u001b[A\n",
      "485it [00:06, 75.84it/s]\u001b[A\n",
      "493it [00:06, 76.10it/s]\u001b[A\n",
      "501it [00:06, 76.39it/s]\u001b[A\n",
      "509it [00:06, 76.18it/s]\u001b[A\n",
      "517it [00:06, 75.64it/s]\u001b[A\n",
      "525it [00:07, 74.68it/s]\u001b[A\n",
      "533it [00:07, 74.84it/s]\u001b[A\n",
      "541it [00:07, 75.02it/s]\u001b[A\n",
      "549it [00:07, 74.83it/s]\u001b[A\n",
      "557it [00:07, 75.11it/s]\u001b[A\n",
      "565it [00:07, 75.14it/s]\u001b[A\n",
      "573it [00:07, 74.16it/s]\u001b[A\n",
      "581it [00:07, 72.07it/s]\u001b[A\n",
      "589it [00:07, 71.99it/s]\u001b[A\n",
      "597it [00:08, 72.40it/s]\u001b[A\n",
      "605it [00:08, 73.40it/s]\u001b[A\n",
      "613it [00:08, 70.06it/s]\u001b[A\n",
      "621it [00:08, 68.69it/s]\u001b[A\n",
      "629it [00:08, 69.60it/s]\u001b[A\n",
      "637it [00:08, 70.82it/s]\u001b[A\n",
      "645it [00:08, 71.67it/s]\u001b[A\n",
      "653it [00:08, 71.75it/s]\u001b[A\n",
      "661it [00:08, 71.82it/s]\u001b[A\n",
      "669it [00:09, 72.08it/s]\u001b[A\n",
      "677it [00:09, 72.34it/s]\u001b[A\n",
      "685it [00:09, 72.41it/s]\u001b[A\n",
      "693it [00:09, 72.66it/s]\u001b[A\n",
      "701it [00:09, 72.15it/s]\u001b[A\n",
      "709it [00:09, 72.05it/s]\u001b[A\n",
      "717it [00:09, 71.51it/s]\u001b[A\n",
      "725it [00:09, 71.27it/s]\u001b[A\n",
      "733it [00:09, 69.84it/s]\u001b[A\n",
      "741it [00:10, 71.42it/s]\u001b[A\n",
      "749it [00:10, 71.47it/s]\u001b[A\n",
      "757it [00:10, 70.53it/s]\u001b[A\n",
      "765it [00:10, 70.51it/s]\u001b[A\n",
      "773it [00:10, 68.52it/s]\u001b[A\n",
      "780it [00:10, 67.88it/s]\u001b[A\n",
      "787it [00:10, 66.93it/s]\u001b[A\n",
      "794it [00:10, 66.83it/s]\u001b[A\n",
      "801it [00:10, 66.78it/s]\u001b[A\n",
      "808it [00:11, 66.02it/s]\u001b[A\n",
      "815it [00:11, 65.28it/s]\u001b[A\n",
      "822it [00:11, 63.98it/s]\u001b[A\n",
      "829it [00:11, 61.80it/s]\u001b[A\n",
      "836it [00:11, 62.90it/s]\u001b[A\n",
      "843it [00:11, 63.40it/s]\u001b[A\n",
      "850it [00:11, 64.23it/s]\u001b[A\n",
      "857it [00:11, 64.74it/s]\u001b[A\n",
      "864it [00:11, 64.46it/s]\u001b[A\n",
      "871it [00:12, 65.18it/s]\u001b[A\n",
      "878it [00:12, 66.11it/s]\u001b[A\n",
      "885it [00:12, 65.69it/s]\u001b[A\n",
      "892it [00:12, 65.51it/s]\u001b[A\n",
      "899it [00:12, 51.45it/s]\u001b[A\n",
      "905it [00:12, 51.32it/s]\u001b[A\n",
      "911it [00:12, 52.78it/s]\u001b[A\n",
      "918it [00:12, 56.70it/s]\u001b[A\n",
      "926it [00:13, 61.53it/s]\u001b[A\n",
      "933it [00:13, 61.64it/s]\u001b[A\n",
      "940it [00:13, 61.88it/s]\u001b[A\n",
      "947it [00:13, 63.38it/s]\u001b[A\n",
      "954it [00:13, 63.93it/s]\u001b[A\n",
      "961it [00:13, 64.39it/s]\u001b[A\n",
      "968it [00:13, 64.48it/s]\u001b[A\n",
      "975it [00:13, 64.81it/s]\u001b[A\n",
      "983it [00:13, 67.43it/s]\u001b[A\n",
      "991it [00:14, 70.25it/s]\u001b[A\n",
      "999it [00:14, 71.70it/s]\u001b[A\n",
      "1008it [00:14, 74.37it/s]\u001b[A\n",
      "1016it [00:14, 75.51it/s]\u001b[A\n",
      "1024it [00:14, 75.65it/s]\u001b[A\n",
      "1032it [00:14, 74.84it/s]\u001b[A\n",
      "1040it [00:14, 75.63it/s]\u001b[A\n",
      "1048it [00:14, 76.25it/s]\u001b[A\n",
      "1056it [00:14, 76.63it/s]\u001b[A\n",
      "1064it [00:14, 76.91it/s]\u001b[A\n",
      "1072it [00:15, 77.24it/s]\u001b[A\n",
      "1080it [00:15, 77.61it/s]\u001b[A\n",
      "1088it [00:15, 77.45it/s]\u001b[A\n",
      "1096it [00:15, 77.86it/s]\u001b[A\n",
      "1104it [00:15, 78.18it/s]\u001b[A\n",
      "1112it [00:15, 78.16it/s]\u001b[A\n",
      "1120it [00:15, 78.21it/s]\u001b[A\n",
      "1128it [00:15, 78.21it/s]\u001b[A\n",
      "1136it [00:15, 78.54it/s]\u001b[A\n",
      "1144it [00:15, 78.97it/s]\u001b[A\n",
      "1153it [00:16, 79.80it/s]\u001b[A\n",
      "1162it [00:16, 80.22it/s]\u001b[A\n",
      "1171it [00:16, 80.24it/s]\u001b[A\n",
      "1180it [00:16, 79.86it/s]\u001b[A\n",
      "1188it [00:16, 79.50it/s]\u001b[A\n",
      "1196it [00:16, 78.68it/s]\u001b[A\n",
      "1204it [00:16, 77.51it/s]\u001b[A\n",
      "1212it [00:16, 77.14it/s]\u001b[A\n",
      "1220it [00:16, 76.96it/s]\u001b[A\n",
      "1228it [00:17, 77.26it/s]\u001b[A\n",
      "1237it [00:17, 78.18it/s]\u001b[A\n",
      "1245it [00:17, 78.60it/s]\u001b[A\n",
      "1253it [00:17, 78.88it/s]\u001b[A\n",
      "1261it [00:17, 78.94it/s]\u001b[A\n",
      "1269it [00:17, 78.80it/s]\u001b[A\n",
      "1277it [00:17, 78.82it/s]\u001b[A\n",
      "1286it [00:17, 79.13it/s]\u001b[A\n",
      "1294it [00:17, 79.27it/s]\u001b[A\n",
      "1303it [00:17, 79.67it/s]\u001b[A\n",
      "1312it [00:18, 80.30it/s]\u001b[A\n",
      "1321it [00:18, 80.97it/s]\u001b[A\n",
      "1330it [00:18, 81.24it/s]\u001b[A\n",
      "1339it [00:18, 80.83it/s]\u001b[A\n",
      "1348it [00:18, 80.92it/s]\u001b[A\n",
      "1357it [00:18, 81.08it/s]\u001b[A\n",
      "1366it [00:18, 80.67it/s]\u001b[A\n",
      "1375it [00:18, 80.50it/s]\u001b[A\n",
      "1384it [00:18, 80.14it/s]\u001b[A\n",
      "1393it [00:19, 80.17it/s]\u001b[A\n",
      "1402it [00:19, 80.01it/s]\u001b[A\n",
      "1411it [00:19, 80.09it/s]\u001b[A\n",
      "1420it [00:19, 79.84it/s]\u001b[A\n",
      "1428it [00:19, 79.78it/s]\u001b[A\n",
      "1436it [00:19, 79.83it/s]\u001b[A\n",
      "1445it [00:19, 79.98it/s]\u001b[A\n",
      "1453it [00:19, 79.80it/s]\u001b[A\n",
      "1461it [00:19, 79.76it/s]\u001b[A\n",
      "1470it [00:20, 80.29it/s]\u001b[A\n",
      "1479it [00:20, 80.82it/s]\u001b[A\n",
      "1488it [00:20, 80.89it/s]\u001b[A\n",
      "1497it [00:20, 80.45it/s]\u001b[A\n",
      "1506it [00:20, 80.25it/s]\u001b[A\n",
      "1515it [00:20, 79.90it/s]\u001b[A\n",
      "1523it [00:20, 79.51it/s]\u001b[A\n",
      "1531it [00:20, 79.53it/s]\u001b[A\n",
      "1539it [00:20, 79.34it/s]\u001b[A\n",
      "1547it [00:21, 79.51it/s]\u001b[A\n",
      "1555it [00:21, 79.52it/s]\u001b[A\n",
      "1563it [00:21, 79.36it/s]\u001b[A\n",
      "1571it [00:21, 79.30it/s]\u001b[A\n",
      "1579it [00:21, 78.88it/s]\u001b[A\n",
      "1587it [00:21, 78.79it/s]\u001b[A\n",
      "1595it [00:21, 79.01it/s]\u001b[A\n",
      "1603it [00:21, 79.16it/s]\u001b[A\n",
      "1611it [00:21, 78.99it/s]\u001b[A\n",
      "1620it [00:21, 79.44it/s]\u001b[A\n",
      "1629it [00:22, 80.29it/s]\u001b[A\n",
      "1638it [00:22, 81.15it/s]\u001b[A\n",
      "1647it [00:22, 81.43it/s]\u001b[A\n",
      "1656it [00:22, 81.25it/s]\u001b[A\n",
      "1665it [00:22, 81.02it/s]\u001b[A\n",
      "1674it [00:22, 81.03it/s]\u001b[A\n",
      "1683it [00:22, 80.83it/s]\u001b[A\n",
      "1692it [00:22, 80.64it/s]\u001b[A\n",
      "1701it [00:22, 80.26it/s]\u001b[A\n",
      "1710it [00:23, 80.10it/s]\u001b[A\n",
      "1719it [00:23, 79.65it/s]\u001b[A\n",
      "1727it [00:23, 79.54it/s]\u001b[A\n",
      "1735it [00:23, 79.31it/s]\u001b[A\n",
      "1743it [00:23, 79.49it/s]\u001b[A\n",
      "1752it [00:23, 79.81it/s]\u001b[A\n",
      "1760it [00:23, 79.86it/s]\u001b[A\n",
      "1769it [00:23, 80.08it/s]\u001b[A\n",
      "1770it [00:23, 74.30it/s]\u001b[A"
     ]
    }
   ],
   "source": [
    "#pairwise_cell_correlation\n",
    "#cross_correlations = []\n",
    "#for cell_pair in tqdm(itertools.combinations(range(len(wt_cells['C_z_scored'].columns)),2)):\n",
    "#    cross_correlations.append(signal.correlate(wt_cells['C_z_scored'][cell_pair[0]], wt_cells['C_z_scored'][cell_pair[1]], mode = 'same'))"
   ]
  },
  {
   "cell_type": "code",
   "execution_count": 65,
   "metadata": {},
   "outputs": [
    {
     "data": {
      "text/plain": [
       "25000"
      ]
     },
     "execution_count": 65,
     "metadata": {},
     "output_type": "execute_result"
    }
   ],
   "source": [
    "len(cross_correlations[3])"
   ]
  },
  {
   "cell_type": "code",
   "execution_count": 66,
   "metadata": {},
   "outputs": [],
   "source": [
    "mean_cc = np.mean(cross_correlations, axis=0)"
   ]
  },
  {
   "cell_type": "code",
   "execution_count": 67,
   "metadata": {},
   "outputs": [
    {
     "data": {
      "text/plain": [
       "25000"
      ]
     },
     "execution_count": 67,
     "metadata": {},
     "output_type": "execute_result"
    }
   ],
   "source": [
    "len(mean_cc)"
   ]
  },
  {
   "cell_type": "code",
   "execution_count": 84,
   "metadata": {},
   "outputs": [
    {
     "data": {
      "text/plain": [
       "[<matplotlib.lines.Line2D at 0x1c538d4f60>]"
      ]
     },
     "execution_count": 84,
     "metadata": {},
     "output_type": "execute_result"
    },
    {
     "data": {
      "image/png": "[encoded data removed]",
      "text/plain": [
       "<Figure size 432x288 with 1 Axes>"
      ]
     },
     "metadata": {
      "needs_background": "light"
     },
     "output_type": "display_data"
    }
   ],
   "source": [
    "plt.plot(mean_cc)"
   ]
  },
  {
   "cell_type": "code",
   "execution_count": 85,
   "metadata": {},
   "outputs": [
    {
     "data": {
      "text/plain": [
       "[<matplotlib.lines.Line2D at 0x1c531f8a58>]"
      ]
     },
     "execution_count": 85,
     "metadata": {},
     "output_type": "execute_result"
    },
    {
     "data": {
      "image/png": "[encoded data removed]",
      "text/plain": [
       "<Figure size 432x288 with 1 Axes>"
      ]
     },
     "metadata": {
      "needs_background": "light"
     },
     "output_type": "display_data"
    }
   ],
   "source": [
    "plt.plot(wt_cells['behavior']['velocity_z_score'])"
   ]
  },
  {
   "cell_type": "code",
   "execution_count": 86,
   "metadata": {},
   "outputs": [
    {
     "data": {
      "text/plain": [
       "<matplotlib.collections.PathCollection at 0x1c5391e748>"
      ]
     },
     "execution_count": 86,
     "metadata": {},
     "output_type": "execute_result"
    },
    {
     "data": {
      "image/png": "[encoded data removed]",
      "text/plain": [
       "<Figure size 432x288 with 1 Axes>"
      ]
     },
     "metadata": {
      "needs_background": "light"
     },
     "output_type": "display_data"
    }
   ],
   "source": [
    "plt.scatter(wt_cells['behavior']['velocity_z_score'], mean_cc) "
   ]
  },
  {
   "cell_type": "code",
   "execution_count": 91,
   "metadata": {},
   "outputs": [],
   "source": [
    "v_zscore_binned = utils_jjm.binning_function_uncrop(200, wt_cells['behavior']['velocity_z_score'], 2)"
   ]
  },
  {
   "cell_type": "code",
   "execution_count": 92,
   "metadata": {},
   "outputs": [
    {
     "data": {
      "image/png": "[encoded data removed]",
      "text/plain": [
       "<Figure size 432x288 with 1 Axes>"
      ]
     },
     "metadata": {
      "needs_background": "light"
     },
     "output_type": "display_data"
    }
   ],
   "source": [
    "plt.plot(v_zscore_binned)\n",
    "plt.show()"
   ]
  },
  {
   "cell_type": "code",
   "execution_count": null,
   "metadata": {},
   "outputs": [],
   "source": []
  }
 ],
 "metadata": {
  "kernelspec": {
   "display_name": "Python [conda env:caiman]",
   "language": "python",
   "name": "conda-env-caiman-py"
  },
  "language_info": {
   "codemirror_mode": {
    "name": "ipython",
    "version": 3
   },
   "file_extension": ".py",
   "mimetype": "text/x-python",
   "name": "python",
   "nbconvert_exporter": "python",
   "pygments_lexer": "ipython3",
   "version": "3.6.8"
  }
 },
 "nbformat": 4,
 "nbformat_minor": 2
}
