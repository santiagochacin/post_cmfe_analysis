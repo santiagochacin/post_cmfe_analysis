{
 "cells": [
  {
   "cell_type": "code",
   "execution_count": 1,
   "metadata": {},
   "outputs": [
    {
     "data": {
      "text/html": [
       "<style>.container { width:90% !important; }</style>"
      ],
      "text/plain": [
       "<IPython.core.display.HTML object>"
      ]
     },
     "metadata": {},
     "output_type": "display_data"
    }
   ],
   "source": [
    "from IPython.core.display import display, HTML\n",
    "display(HTML(\"<style>.container { width:90% !important; }</style>\"))"
   ]
  },
  {
   "cell_type": "code",
   "execution_count": 2,
   "metadata": {},
   "outputs": [],
   "source": [
    "import sys\n",
    "import os\n",
    "import glob\n",
    "import importlib\n",
    "import multiprocessing as mp\n",
    "import itertools\n",
    "import math\n",
    "import random \n",
    "import datetime\n",
    "import h5py\n",
    "\n",
    "from matplotlib import pyplot as plt\n",
    "import scipy.sparse as sparse\n",
    "import scipy.io as sio\n",
    "import scipy.stats as stats\n",
    "import scipy.spatial.distance as dist\n",
    "import sklearn.metrics as skm\n",
    "import numpy as np\n",
    "import h5py\n",
    "from tqdm import tqdm\n",
    "import pandas as pd\n",
    "import tables\n",
    "#import deepdish as dd\n",
    "\n",
    "sys.path.append('/Users/johnmarshall/Documents/MATLAB/CNMF_E_jjm/python_wrapper/')\n",
    "sys.path.append('/Users/johnmarshall/caiman_data/post_cnmfe_analysis')\n",
    "import miniscope_analysis as ma \n",
    "import python_utils_jjm as utils_jjm\n",
    "import jjm_post_cnmfe_fns as jjm\n",
    "import align_msCam_tobehavior as align_tracking\n",
    "\n",
    "from importlib import reload\n",
    "%matplotlib inline"
   ]
  },
  {
   "cell_type": "code",
   "execution_count": null,
   "metadata": {},
   "outputs": [],
   "source": [
    "## function to plot traces for cnmfe output\n",
    "def plot_traces(results, neuron_idxs, frame_range, data_to_plot, normalize=True, fsize=(15,10)):\n",
    "    \"\"\"Inputs:\n",
    "    results: analysis class\n",
    "    neuron_idxs : list of neuron indicies to plot, e.g. range(1, 2) or [3, 50, 90]\n",
    "    frame_range : tuple (start_frame, end_frame)\n",
    "    data_to_plot : list of data to plot (e.g. ['C', 'C_raw'])        \n",
    "    \"\"\"\n",
    "    plt.figure(figsize=fsize)\n",
    "    plt.axis('on')\n",
    "    arrays_to_plot = [np.array(results.cnmfe_results[data]) for data in data_to_plot]\n",
    "    for idx in neurons_idx:\n",
    "        for array in arrays_to_plot:\n",
    "            if normalize==True:\n",
    "                plt.plot(utils_jjm.normalize(array[idx, frame_range[0]:frame_range[1]]) + idx)\n",
    "            else:\n",
    "                plt.plot(array[idx, frames[0]:frames[1]] + idx)\n",
    "    return()"
   ]
  },
  {
   "cell_type": "code",
   "execution_count": null,
   "metadata": {
    "scrolled": true
   },
   "outputs": [],
   "source": [
    "reload(utils_jjm)\n",
    "reload(align_tracking)"
   ]
  },
  {
   "cell_type": "code",
   "execution_count": null,
   "metadata": {
    "scrolled": true
   },
   "outputs": [],
   "source": [
    "reload(ma)"
   ]
  },
  {
   "cell_type": "code",
   "execution_count": null,
   "metadata": {},
   "outputs": [],
   "source": [
    "#GRIN013 \n",
    "#results_file = '/Users/johnmarshall/Documents/MATLAB/29-Apr_16_52_17_wsortdecisionsout.mat'\n",
    "#GRIN011 #cnmfe_analysis_files/GRIN_011\n",
    "#results_file = '/Users/johnmarshall/Documents/MATLAB/04-May_00_39_45_wsortdecisions_out.mat'\n",
    "#GRIN026 \n",
    "folder_path = '/Users/johnmarshall/Documents/Analysis/MiniscopeMovies/GRIN026/H16_M35_S34/memmap_0000memmap_0004_resized_source_extraction_run05/frames_1_5000/LOGS_24-Sep_16_07_53/'\n",
    "results_file = '/Users/johnmarshall/Documents/Analysis/MiniscopeMovies/GRIN026/H16_M35_S34/memmap_0000memmap_0004_resized_source_extraction_run05/frames_1_5000/LOGS_24-Sep_16_07_53/out.mat'\n",
    "\n",
    "#results_file = '/Volumes/My_Passport/cnmfe_analysis_files/GRIN026/memmap_0000memmap_0004_resized_source_extraction_run05/out.mat'\n",
    "mat_results = ma.miniscope_session(results_file)"
   ]
  },
  {
   "cell_type": "code",
   "execution_count": null,
   "metadata": {},
   "outputs": [],
   "source": [
    "## add information about recording session \n",
    "mat_results.session_info['mouse'] = 'GRIN026'\n",
    "mat_results.session_info['recording_date'] = '08_20_2019'\n",
    "mat_results.session_info['framerate_fps'] = 20"
   ]
  },
  {
   "cell_type": "code",
   "execution_count": null,
   "metadata": {},
   "outputs": [],
   "source": [
    "mat_results.session_info"
   ]
  },
  {
   "cell_type": "code",
   "execution_count": null,
   "metadata": {},
   "outputs": [],
   "source": [
    "np.shape(mat_results.cnmfe_results['C'])"
   ]
  },
  {
   "cell_type": "code",
   "execution_count": null,
   "metadata": {},
   "outputs": [],
   "source": [
    "#plot traces from CNMFE object \n",
    "neurons_idx = range(0, 3)\n",
    "plot_traces(mat_results, range(1, 2), (0, 5000), ['C', 'C_raw'], normalize=True, fsize=(20,10))"
   ]
  },
  {
   "cell_type": "code",
   "execution_count": null,
   "metadata": {},
   "outputs": [],
   "source": [
    "## plot distribution of interspike intervals \n",
    "#plt.plot(results.cnmfe_results['C'][1][:])\n",
    "# z scored \n",
    "z_scores_by_cell = stats.zscore(mat_results.cnmfe_results['C'][3][:])\n",
    "plt.plot(z_scores_by_cell)"
   ]
  },
  {
   "cell_type": "code",
   "execution_count": null,
   "metadata": {},
   "outputs": [],
   "source": [
    "#create hdf5 file for analysis results\n",
    "hf_file = h5py.File(folder_path + mat_results.session_info['mouse']+mat_results.session_info['recording_date']+str(datetime.datetime.now()).split('.')[0].replace(\" \",\"_\")+'.h5', 'w') \n",
    "results = hf_file.create_group('analysis results')\n",
    "info = hf_file.create_group('info')\n",
    "\n"
   ]
  },
  {
   "cell_type": "code",
   "execution_count": null,
   "metadata": {},
   "outputs": [],
   "source": [
    "#get z score of each cell in recording\n",
    "z_scored = np.zeros((len(mat_results.cnmfe_results['C']), len(mat_results.cnmfe_results['C'][1])))\n",
    "for cell in range(len(mat_results.cnmfe_results['C'])):\n",
    "    z_scored[cell, :] = stats.zscore(mat_results.cnmfe_results['C'][cell])\n",
    "\n",
    "results['C_Z_scored'] = z_scored"
   ]
  },
  {
   "cell_type": "code",
   "execution_count": null,
   "metadata": {},
   "outputs": [],
   "source": [
    "# bin by time windows -- try 200msec to start (Parker, Schnitzer)\n",
    "info['framerate_fps'] = mat_results.session_info['framerate_fps'] \n",
    "bin_in_samples = mat_results.session_info['framerate_fps']*10"
   ]
  },
  {
   "cell_type": "code",
   "execution_count": null,
   "metadata": {},
   "outputs": [],
   "source": [
    "binned = np.zeros((len(results['C_Z_scored']), int((len(results['C_Z_scored'][1])/bin_in_samples)-1)))"
   ]
  },
  {
   "cell_type": "code",
   "execution_count": null,
   "metadata": {},
   "outputs": [],
   "source": [
    "for cell in range(len(results['C_Z_scored'])):\n",
    "    binned[cell, :] = utils_jjm.binning_function(bin_in_samples, z_scored[cell], 3)"
   ]
  },
  {
   "cell_type": "code",
   "execution_count": null,
   "metadata": {},
   "outputs": [],
   "source": [
    "results['C_binned'] = binned"
   ]
  },
  {
   "cell_type": "code",
   "execution_count": null,
   "metadata": {},
   "outputs": [],
   "source": [
    "plt.plot(results['C_Z_scored'][0])\n",
    "plt.plot(results['C_Z_scored'][1])\n",
    "#plt.plot(results.cnmfe_results['C_binned'][3])"
   ]
  },
  {
   "cell_type": "code",
   "execution_count": null,
   "metadata": {},
   "outputs": [],
   "source": [
    "plt.plot([20*x for x in range(0, len(results['C_binned'][1]))], results['C_binned'][1])"
   ]
  },
  {
   "cell_type": "code",
   "execution_count": null,
   "metadata": {},
   "outputs": [],
   "source": [
    "#compile ISIs on Z-score "
   ]
  },
  {
   "cell_type": "code",
   "execution_count": null,
   "metadata": {},
   "outputs": [],
   "source": [
    "len(results['C_Z_scored'])"
   ]
  },
  {
   "cell_type": "code",
   "execution_count": null,
   "metadata": {},
   "outputs": [],
   "source": [
    "[times, ISIs] = utils_jjm.get_ISIs(results['C_Z_scored'], 20, len(results['C_Z_scored']), 5)"
   ]
  },
  {
   "cell_type": "code",
   "execution_count": null,
   "metadata": {},
   "outputs": [],
   "source": [
    "results.create_group('ISIs')\n",
    "results.create_group('event_times')"
   ]
  },
  {
   "cell_type": "code",
   "execution_count": null,
   "metadata": {},
   "outputs": [],
   "source": [
    "\n",
    "#del(results['ISIs'])"
   ]
  },
  {
   "cell_type": "code",
   "execution_count": null,
   "metadata": {},
   "outputs": [],
   "source": [
    "np.shape(ISIs)[0]"
   ]
  },
  {
   "cell_type": "code",
   "execution_count": null,
   "metadata": {},
   "outputs": [],
   "source": [
    "for cell in range(np.shape(ISIs)[0]):\n",
    "    results['ISIs'][str(cell)] = ISIs[cell]\n",
    "for cell in range(np.shape(times)[0]):\n",
    "    results['event_times'][str(cell)] = times[cell]"
   ]
  },
  {
   "cell_type": "code",
   "execution_count": null,
   "metadata": {},
   "outputs": [],
   "source": [
    "## save hdf5 before next analysis\n",
    "hf_file.close()"
   ]
  },
  {
   "cell_type": "code",
   "execution_count": null,
   "metadata": {},
   "outputs": [],
   "source": [
    "## load for Jaccard correlation analysis "
   ]
  },
  {
   "cell_type": "code",
   "execution_count": null,
   "metadata": {},
   "outputs": [],
   "source": [
    "hf_file = h5py.File(folder_path + 'GRIN02608_20_20192019-10-14_10:29:26.h5', 'r')"
   ]
  },
  {
   "cell_type": "code",
   "execution_count": null,
   "metadata": {},
   "outputs": [],
   "source": [
    "np.shape(hf_file['analysis results']['C_binned'])[0]"
   ]
  },
  {
   "cell_type": "code",
   "execution_count": null,
   "metadata": {},
   "outputs": [],
   "source": [
    "jaccard_scores = []\n",
    "for pair in itertools.combinations(range(np.shape(hf_file['analysis results']['C_binned'])[0]),2):\n",
    "    jaccard_scores.append(skm.jaccard_similarity_score(hf_file['analysis results']['C_binned'][pair[0]], hf_file['analysis results']['C_binned'][pair[1]]))"
   ]
  },
  {
   "cell_type": "code",
   "execution_count": null,
   "metadata": {},
   "outputs": [],
   "source": [
    "plt.plot(jaccard_scores)"
   ]
  },
  {
   "cell_type": "code",
   "execution_count": null,
   "metadata": {
    "scrolled": true
   },
   "outputs": [],
   "source": [
    "##coordinates of detected neurons\n",
    "#should be able to input a list of coordinates to plot here \n",
    "%matplotlib inline\n",
    "neurons_idx = range(0, np.shape(hf_file['analysis results']['C_binned'])[0])\n",
    "plt.rcParams['figure.figsize'] = [20, 20]\n",
    "coordinates = utils_jjm.plot_contours(mat_results.cnmfe_results['A'].todense(), mat_results.cnmfe_results['Cn'], list_to_plot=neurons_idx, display_numbers=True, maxthr=.6,cmap='gray', colors='r')"
   ]
  },
  {
   "cell_type": "code",
   "execution_count": null,
   "metadata": {},
   "outputs": [],
   "source": [
    "com = [coordinates[x]['CoM'] for x in range(np.shape(hf_file['analysis results']['C_binned'])[0])]"
   ]
  },
  {
   "cell_type": "code",
   "execution_count": null,
   "metadata": {},
   "outputs": [],
   "source": [
    "com"
   ]
  },
  {
   "cell_type": "code",
   "execution_count": null,
   "metadata": {},
   "outputs": [],
   "source": [
    "path_to_eztrackfiles = '/Volumes/My_Passport/cnmfe_analysis_files/GRIN011/H10_M19_S59_01242019/behavior_tracking_data/'\n",
    "miniscope_time_stamp_file = path_to_eztrackfiles+'timestamp.dat'\n",
    "location_files = glob.glob(path_to_eztrackfiles+'*_LocationOutput.csv')\n"
   ]
  },
  {
   "cell_type": "code",
   "execution_count": null,
   "metadata": {},
   "outputs": [],
   "source": [
    "frame_range = (1,10)\n",
    "results.align_to_eztrackoutput(miniscope_time_stamp_file, location_files, frame_range)"
   ]
  },
  {
   "cell_type": "code",
   "execution_count": null,
   "metadata": {},
   "outputs": [],
   "source": [
    "##load movement data and align to cnmfe output\n",
    "\n",
    "path_to_eztrackfiles = '/Volumes/My_Passport/cnmfe_analysis_files/GRIN011/H10_M19_S59_01242019/behavior_tracking_data/'\n",
    "miniscope_time_stamp_file = path_to_eztrackfiles+'timestamp.dat'\n",
    "location_files = glob.glob(path_to_eztrackfiles+'*_LocationOutput.csv')\n",
    "\n",
    "dfs = []\n",
    "for file in location_files:\n",
    "     dfs.append(pd.read_csv(file, usecols=[1,9,10,11]))\n",
    "\n",
    "tracking_concacted = pd.concat(dfs)"
   ]
  },
  {
   "cell_type": "code",
   "execution_count": null,
   "metadata": {},
   "outputs": [],
   "source": [
    "tracking_concacted.head()"
   ]
  },
  {
   "cell_type": "code",
   "execution_count": null,
   "metadata": {},
   "outputs": [],
   "source": [
    "timestamps_df = pd.read_table(miniscope_time_stamp_file)"
   ]
  },
  {
   "cell_type": "code",
   "execution_count": null,
   "metadata": {},
   "outputs": [],
   "source": [
    "CNMFE_frame_range=(1, 10)"
   ]
  },
  {
   "cell_type": "code",
   "execution_count": null,
   "metadata": {},
   "outputs": [],
   "source": [
    "timestamps_df.head()"
   ]
  },
  {
   "cell_type": "code",
   "execution_count": null,
   "metadata": {},
   "outputs": [],
   "source": [
    "msCam_timestamps = timestamps_df[timestamps_df['camNum'] == 0].set_index('frameNum')[CNMFE_frame_range[0]-1:CNMFE_frame_range[1]]\n",
    "behavCam_timestamps = timestamps_df[timestamps_df['camNum'] == 1].set_index('frameNum')"
   ]
  },
  {
   "cell_type": "code",
   "execution_count": null,
   "metadata": {},
   "outputs": [],
   "source": [
    "msCam_timestamps"
   ]
  },
  {
   "cell_type": "code",
   "execution_count": null,
   "metadata": {},
   "outputs": [],
   "source": [
    "behavCam_timestamps.head()"
   ]
  },
  {
   "cell_type": "code",
   "execution_count": null,
   "metadata": {},
   "outputs": [],
   "source": [
    "behav_trimmed = behavCam_timestamps.loc[:len(tracking_concacted)]"
   ]
  },
  {
   "cell_type": "code",
   "execution_count": null,
   "metadata": {},
   "outputs": [],
   "source": [
    "behav_trimmed.head()"
   ]
  },
  {
   "cell_type": "code",
   "execution_count": null,
   "metadata": {},
   "outputs": [],
   "source": [
    "behav_trimmed['Distance'] = np.array(tracking_concacted['Distance'])"
   ]
  },
  {
   "cell_type": "code",
   "execution_count": null,
   "metadata": {},
   "outputs": [],
   "source": [
    "behav_trimmed.head()"
   ]
  },
  {
   "cell_type": "code",
   "execution_count": null,
   "metadata": {},
   "outputs": [],
   "source": [
    "#first and last frame to align from CNMFE data\n",
    "first_frame = CNMFE_frame_range[0]\n",
    "final_frame = CNMFE_frame_range[1]\n",
    "\n",
    "# reset initial clock value to 0 \n",
    "msCam_timestamps['sysClock'][1] = 0\n",
    "behav_trimmed['sysClock'][1] = 0\n",
    "\n",
    "#if first_frame ==1 :\n",
    "   # add following parameters to msCam data frame\n",
    "#    sys_clocks_behavCam = [0]\n",
    "#    behavCam_frames = [1]\n",
    "#    msCam_frames = [1]\n",
    "#    dist_btw_frames = [0]\n",
    "#    velocity = [0]\n",
    "#    first_frame += 1\n",
    "    \n",
    "#else: \n",
    "sys_clocks_behavCam = []\n",
    "behavCam_frames = []\n",
    "msCam_frames = []\n",
    "dist_btw_frames = []\n",
    "velocity = []"
   ]
  },
  {
   "cell_type": "code",
   "execution_count": null,
   "metadata": {},
   "outputs": [],
   "source": [
    "msCam_frames"
   ]
  },
  {
   "cell_type": "code",
   "execution_count": null,
   "metadata": {},
   "outputs": [],
   "source": [
    "sys_clock_msCam = msCam_timestamps['sysClock'].loc[1]\n",
    "sys_clock_msCam"
   ]
  },
  {
   "cell_type": "code",
   "execution_count": null,
   "metadata": {},
   "outputs": [],
   "source": [
    "list(msCam_timestamps.loc[msCam_timestamps['sysClock'] == sys_clock_msCam].index)[0]"
   ]
  },
  {
   "cell_type": "code",
   "execution_count": null,
   "metadata": {},
   "outputs": [],
   "source": [
    "for msCam_frame in tqdm(range(first_frame, final_frame+1)):\n",
    "    #get sys clock time of each miniscope recorded frame\n",
    "    #find closest behav cam frame by sys clock time, \n",
    "    sys_clock_msCam = msCam_timestamps['sysClock'].loc[msCam_frame]\n",
    "    msCam_frames.append(list(msCam_timestamps.loc[msCam_timestamps['sysClock'] == sys_clock_msCam].index)[0])\n",
    "    behavCam_frame = list(behav_trimmed.iloc[(behav_trimmed['sysClock']-sys_clock_msCam).abs().argsort()[:1]].index)[0]\n",
    "    print('            '+str(behavCam_frame))\n",
    "    behavCam_frames.append(behavCam_frame)\n",
    "    sys_clocks_behavCam.append(behav_trimmed.loc[behavCam_frame]['sysClock'])\n",
    "    delta_d = behav_trimmed.loc[behavCam_frame]['Distance']\n",
    "    print('            '+str(delta_d))\n",
    "    dist_btw_frames.append(delta_d)\n",
    "    #velocity is the difference in the distance between frames divived by the sysClock difference\n",
    "    if behavCam_frame-1 == 0:\n",
    "        delta_t = 33\n",
    "    else:\n",
    "        delta_t = behav_trimmed.loc[behavCam_frame]['sysClock']-behav_trimmed.loc[behavCam_frame-1]['sysClock']\n",
    "        \n",
    "    velocity.append(delta_d/(delta_t/1000))"
   ]
  },
  {
   "cell_type": "code",
   "execution_count": null,
   "metadata": {},
   "outputs": [],
   "source": [
    "msCam_timestamps['velocity'] = velocity\n",
    "msCam_timestamps['Distance'] = dist_btw_frames\n",
    "msCam_timestamps['behavCam_frames'] = behavCam_frames\n",
    "msCam_timestamps['msCam_frames'] = msCam_frames\n",
    "msCam_timestamps['sys_clocks_behavCam'] = sys_clocks_behavCam"
   ]
  },
  {
   "cell_type": "code",
   "execution_count": null,
   "metadata": {},
   "outputs": [],
   "source": [
    "msCam_timestamps"
   ]
  },
  {
   "cell_type": "code",
   "execution_count": null,
   "metadata": {
    "scrolled": false
   },
   "outputs": [],
   "source": [
    "\n",
    "#plt.plot(aligned_['sys_clocks_behavCam']/(1000*60), aligned_['velocity'])"
   ]
  },
  {
   "cell_type": "code",
   "execution_count": null,
   "metadata": {
    "scrolled": false
   },
   "outputs": [],
   "source": [
    "## z score velocity trace \n",
    "# change infinity values to zero for now\n",
    "velocity = aligned_['velocity'].values\n",
    "velocity[velocity == np.inf] = 0\n",
    "velocity_zscore = stats.zscore(velocity)\n"
   ]
  },
  {
   "cell_type": "code",
   "execution_count": null,
   "metadata": {},
   "outputs": [],
   "source": [
    "aligned_"
   ]
  },
  {
   "cell_type": "code",
   "execution_count": null,
   "metadata": {},
   "outputs": [],
   "source": [
    "plt.rcParams['figure.figsize'] = [20, 5]\n",
    "plt.subplot(2,1,1)\n",
    "plt.plot(aligned_['sys_clocks_behavCam'][0:1500], velocity_zscore[0:1500])\n",
    "plt.subplot(2,1,2)\n",
    "plt.plot(aligned_['velocity'][0:1500])"
   ]
  },
  {
   "cell_type": "code",
   "execution_count": null,
   "metadata": {},
   "outputs": [],
   "source": [
    "## align fluorescence events to threshold crossing\n",
    "event_count, sample_points = align_tracking.count_events_in_array_threshold(velocity_zscore, 30, 0, threshold=5, up=True)\n",
    "# generate radom points for comparsion\n",
    "random_points = random.sample(range(1, 29000), len(sample_points))\n",
    "# velocity\n",
    "velocity_averaged = align_tracking.return_triggered_events(velocity, sample_points, (300,300))\n",
    "velocity_averaged_random = align_tracking.return_triggered_events(velocity, random_points, (300,300))\n",
    "# denoised fluorescence \n",
    "C_mean = np.mean(C, axis=0)\n",
    "denoised_fluorescence_averaged = align_tracking.return_triggered_events(C_mean, sample_points, (300,300))\n",
    "denoised_fluorescence_averaged_random = align_tracking.return_triggered_events(C_mean, random_points, (300,300))"
   ]
  },
  {
   "cell_type": "code",
   "execution_count": null,
   "metadata": {},
   "outputs": [],
   "source": [
    "plt.subplot(2, 1, 1)\n",
    "plt.plot(velocity_averaged.mean(axis=1))\n",
    "plt.subplot(2, 1, 2)\n",
    "plt.plot(denoised_fluorescence_averaged.mean(axis=1))"
   ]
  },
  {
   "cell_type": "code",
   "execution_count": null,
   "metadata": {},
   "outputs": [],
   "source": [
    "plt.subplot(2, 1, 1)\n",
    "plt.plot(velocity_averaged_random.mean(axis=1))\n",
    "plt.subplot(2, 1, 2)\n",
    "plt.plot(denoised_fluorescence_averaged_random.mean(axis=1))"
   ]
  },
  {
   "cell_type": "code",
   "execution_count": null,
   "metadata": {
    "scrolled": false
   },
   "outputs": [],
   "source": [
    "## save output \n",
    "dd.io.save(results_file.rstrip('.mat')+'t.h5', {'C':results['C'],'C_raw':results['C_raw'],'A':results['A'], 'S':results['S'], 'behavior_info':aligned_.to_dict()})"
   ]
  },
  {
   "cell_type": "code",
   "execution_count": null,
   "metadata": {},
   "outputs": [],
   "source": [
    "## should 1st Z - score velocity "
   ]
  },
  {
   "cell_type": "code",
   "execution_count": null,
   "metadata": {},
   "outputs": [],
   "source": [
    "num_neurons = np.shape(C)[0]"
   ]
  },
  {
   "cell_type": "code",
   "execution_count": null,
   "metadata": {},
   "outputs": [],
   "source": [
    "## calculate distribution of correlation coefficents with velocity \n",
    "num_neurons = np.shape(C)[0]\n",
    "behav_correlations = []\n",
    "for neuron in range(1,num_neurons):\n",
    "    r = stats.pearsonr(velocity_zscore, results['C'][neuron])[0]\n",
    "    behav_correlations.append(r)"
   ]
  },
  {
   "cell_type": "code",
   "execution_count": null,
   "metadata": {},
   "outputs": [],
   "source": [
    "hist_, bin_edges_ = np.histogram(behav_correlations, bins='auto')\n",
    "plt.hist(behav_correlations, bins='auto')\n",
    "plt.show()"
   ]
  },
  {
   "cell_type": "code",
   "execution_count": null,
   "metadata": {},
   "outputs": [],
   "source": [
    "## calculate pairwise correlation coefficients\n",
    "num_neurons = np.shape(C)[0]\n",
    "pairwise = {}\n",
    "for pair in itertools.combinations(range(num_neurons),2):\n",
    "    #pairwise correlation coefficient\n",
    "    r = stats.pearsonr(results['C'][pair[0]], results['C'][pair[1]])[0]\n",
    "    #euclidian distance \n",
    "    distance = dist.euclidean(coordinates[pair[0]]['CoM'], coordinates[pair[1]]['CoM'])\n",
    "    pairwise[pair] = (r, distance)"
   ]
  },
  {
   "cell_type": "code",
   "execution_count": null,
   "metadata": {},
   "outputs": [],
   "source": [
    "pairwise[(0, 1)][0]"
   ]
  },
  {
   "cell_type": "code",
   "execution_count": null,
   "metadata": {},
   "outputs": [],
   "source": [
    "r_coeffs = [pairwise[pair][0] for pair in list(pairwise.keys())]\n",
    "distance = [pairwise[pair][1] for pair in list(pairwise.keys())]"
   ]
  },
  {
   "cell_type": "code",
   "execution_count": null,
   "metadata": {},
   "outputs": [],
   "source": [
    "hist_, bin_edges_ = np.histogram(r_coeffs, bins='auto')\n",
    "plt.hist(r_coeffs, bins='auto')\n",
    "plt.show()"
   ]
  },
  {
   "cell_type": "code",
   "execution_count": null,
   "metadata": {},
   "outputs": [],
   "source": [
    "plt.scatter(distance, r_coeffs)\n",
    "plt.show()"
   ]
  },
  {
   "cell_type": "code",
   "execution_count": null,
   "metadata": {},
   "outputs": [],
   "source": [
    "##save pairwise comparisons as hdf5 file \n",
    "pairwise_df = pd.DataFrame(pairwise)\n",
    "pairwise_df.to_hdf('/Users/johnmarshall/Documents/MATLAB/29-Apr_16_52_17_pairwise_distance_comparisons.h5', key='df', mode='w', complevel=5)"
   ]
  },
  {
   "cell_type": "code",
   "execution_count": null,
   "metadata": {},
   "outputs": [],
   "source": []
  }
 ],
 "metadata": {
  "kernelspec": {
   "display_name": "Python [conda env:caiman]",
   "language": "python",
   "name": "conda-env-caiman-py"
  },
  "language_info": {
   "codemirror_mode": {
    "name": "ipython",
    "version": 3
   },
   "file_extension": ".py",
   "mimetype": "text/x-python",
   "name": "python",
   "nbconvert_exporter": "python",
   "pygments_lexer": "ipython3",
   "version": "3.6.8"
  }
 },
 "nbformat": 4,
 "nbformat_minor": 2
}
