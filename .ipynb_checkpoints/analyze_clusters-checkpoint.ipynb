{
 "cells": [
  {
   "cell_type": "code",
   "execution_count": 3,
   "metadata": {},
   "outputs": [
    {
     "data": {
      "text/html": [
       "<style>.container { width:90% !important; }</style>"
      ],
      "text/plain": [
       "<IPython.core.display.HTML object>"
      ]
     },
     "metadata": {},
     "output_type": "display_data"
    }
   ],
   "source": [
    "from IPython.core.display import display, HTML\n",
    "display(HTML(\"<style>.container { width:90% !important; }</style>\"))"
   ]
  },
  {
   "cell_type": "code",
   "execution_count": 3,
   "metadata": {},
   "outputs": [],
   "source": [
    "import numpy as np\n",
    "import pandas as pd\n",
    "import h5py\n",
    "import itertools\n",
    "import python_utils_jjm as utils_jjm\n",
    "from tqdm import tqdm\n",
    "from scipy import stats\n",
    "from importlib import reload\n",
    "from matplotlib import pyplot as plt\n",
    "import sys\n",
    "sys.path.append('/Users/johnmarshall/caiman_data/post_cnmfe_analysis')\n",
    "import miniscope_analysis as ma \n",
    "import scipy.spatial.distance as dist\n",
    "from tqdm import tqdm"
   ]
  },
  {
   "cell_type": "code",
   "execution_count": 4,
   "metadata": {},
   "outputs": [
    {
     "data": {
      "text/plain": [
       "<module 'python_utils_jjm' from '/Users/johnmarshall/Documents/Analysis/PythonAnalysisScripts/post_cmfe_analysis/python_utils_jjm.py'>"
      ]
     },
     "execution_count": 4,
     "metadata": {},
     "output_type": "execute_result"
    }
   ],
   "source": [
    "reload(utils_jjm)"
   ]
  },
  {
   "cell_type": "code",
   "execution_count": 32,
   "metadata": {},
   "outputs": [],
   "source": [
    "dir_ = '/Volumes/My_Passport/cnmfe_analysis_files/OpenFieldAnalysis/'\n",
    "mouse = 'GRIN018'"
   ]
  },
  {
   "cell_type": "code",
   "execution_count": 33,
   "metadata": {},
   "outputs": [],
   "source": [
    "analysis_df = pd.read_hdf(str(dir_ + mouse + '_aligned_to_behavior.h5'))\n",
    "coms_df = pd.read_hdf(str(dir_ + mouse + '_coms.h5'))"
   ]
  },
  {
   "cell_type": "code",
   "execution_count": 34,
   "metadata": {},
   "outputs": [],
   "source": [
    "# get indicies where mouse is moving above a given speed \n",
    "# analysis_df['behavior'][analysis_df['behavior']['velocity'] > 0.1].index.tolist()"
   ]
  },
  {
   "cell_type": "code",
   "execution_count": 35,
   "metadata": {},
   "outputs": [],
   "source": [
    "# \n",
    "num_neurons = len(analysis_df['C_z_scored'].columns)"
   ]
  },
  {
   "cell_type": "code",
   "execution_count": 36,
   "metadata": {},
   "outputs": [
    {
     "data": {
      "text/plain": [
       "49"
      ]
     },
     "execution_count": 36,
     "metadata": {},
     "output_type": "execute_result"
    }
   ],
   "source": [
    "num_neurons"
   ]
  },
  {
   "cell_type": "code",
   "execution_count": 112,
   "metadata": {},
   "outputs": [],
   "source": [
    "#analysis_file = h5py.File(str(dir_ + mouse + '_cluster_analysis.h5'), 'w')"
   ]
  },
  {
   "cell_type": "code",
   "execution_count": 113,
   "metadata": {},
   "outputs": [],
   "source": [
    "# get euclidean distances  \n",
    "pairwise_euclidean_distance = {}\n",
    "for pair in itertools.combinations(range(num_neurons),2):\n",
    "    pairwise_euclidean_distance[pair] = dist.euclidean(coms_df.iloc[pair[0]], coms_df.iloc[pair[1]])    \n",
    "\n",
    "pairwise_distance = pd.DataFrame(pairwise_euclidean_distance, index=['euclidean_distance'])\n",
    "pairwise_distance.to_hdf(dir_ + mouse + '_euclidean_distance.h5', key='df')"
   ]
  },
  {
   "cell_type": "code",
   "execution_count": 114,
   "metadata": {},
   "outputs": [
    {
     "name": "stderr",
     "output_type": "stream",
     "text": [
      "406it [00:03, 123.93it/s]\n"
     ]
    }
   ],
   "source": [
    "# get linear pairwise correlation coefficients\n",
    "pairwise_r_correlation_unbinned = {}\n",
    "for pair in tqdm(itertools.combinations(range(num_neurons),2)):\n",
    "    pairwise_r_correlation_unbinned[pair] = stats.pearsonr(analysis_df['C_z_scored'][pair[0]], analysis_df['C_z_scored'][pair[1]])[0]\n",
    "\n",
    "pairwise_pearson = pd.DataFrame(pairwise_r_correlation_unbinned, index=['pairwise_pearson_r'])\n",
    "pairwise_pearson.to_hdf(dir_ + mouse + '_pairwise_pearson.h5', key='df')"
   ]
  },
  {
   "cell_type": "code",
   "execution_count": 115,
   "metadata": {},
   "outputs": [],
   "source": [
    "#plot pairwise correlations versus distance "
   ]
  },
  {
   "cell_type": "code",
   "execution_count": 116,
   "metadata": {},
   "outputs": [
    {
     "data": {
      "text/plain": [
       "0.07466685952421069"
      ]
     },
     "execution_count": 116,
     "metadata": {},
     "output_type": "execute_result"
    }
   ],
   "source": [
    "stats.pearsonr(analysis_df['C_z_scored'][0], analysis_df['C_z_scored'][1])[0]"
   ]
  },
  {
   "cell_type": "code",
   "execution_count": 117,
   "metadata": {},
   "outputs": [
    {
     "data": {
      "image/png": "[encoded data removed]",
      "text/plain": [
       "<Figure size 432x288 with 1 Axes>"
      ]
     },
     "metadata": {
      "needs_background": "light"
     },
     "output_type": "display_data"
    }
   ],
   "source": [
    "plt.scatter(pairwise_distance, pairwise_pearson)\n",
    "plt.show()"
   ]
  },
  {
   "cell_type": "code",
   "execution_count": null,
   "metadata": {},
   "outputs": [],
   "source": []
  }
 ],
 "metadata": {
  "kernelspec": {
   "display_name": "Python (caiman)",
   "language": "python",
   "name": "caiman"
  },
  "language_info": {
   "codemirror_mode": {
    "name": "ipython",
    "version": 3
   },
   "file_extension": ".py",
   "mimetype": "text/x-python",
   "name": "python",
   "nbconvert_exporter": "python",
   "pygments_lexer": "ipython3",
   "version": "3.6.8"
  }
 },
 "nbformat": 4,
 "nbformat_minor": 2
}
