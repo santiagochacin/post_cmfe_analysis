{
 "cells": [
  {
   "cell_type": "code",
   "execution_count": 1,
   "metadata": {},
   "outputs": [
    {
     "data": {
      "text/html": [
       "<style>.container { width:70% !important; }</style>"
      ],
      "text/plain": [
       "<IPython.core.display.HTML object>"
      ]
     },
     "metadata": {},
     "output_type": "display_data"
    }
   ],
   "source": [
    "from IPython.core.display import display, HTML\n",
    "display(HTML(\"<style>.container { width:70% !important; }</style>\"))"
   ]
  },
  {
   "cell_type": "code",
   "execution_count": 2,
   "metadata": {},
   "outputs": [],
   "source": [
    "import numpy as np\n",
    "from matplotlib import pyplot as plt\n",
    "import itertools\n",
    "import scipy.spatial.distance as dist\n",
    "import datetime\n",
    "import scipy.stats as stats\n",
    "import sklearn.metrics as skm\n",
    "\n",
    "import sys\n",
    "import h5py\n",
    "sys.path.append('/Users/johnmarshall/Documents/MATLAB/CNMF_E_jjm/python_wrapper/')\n",
    "sys.path.append('/Users/johnmarshall/caiman_data/post_cnmfe_analysis')\n",
    "import miniscope_analysis as ma \n",
    "import python_utils_jjm as utils_jjm\n",
    "import jjm_post_cnmfe_fns as jjm\n",
    "import align_msCam_tobehavior as align_tracking"
   ]
  },
  {
   "cell_type": "code",
   "execution_count": 3,
   "metadata": {},
   "outputs": [],
   "source": [
    "folder_path = '/Users/johnmarshall/Documents/Analysis/MiniscopeMovies/OpenFieldAnalysis/'\n",
    "\n",
    "wt_analysis = ['GRIN026_full_session_analysis.h5', 'GRIN013_full_session_analysis.h5', 'GRIN027_full_session_analysis.h5']\n",
    "ko_analysis = ['GRIN011_full_session_analysis.h5', 'GRIN012_full_session_analysis.h5', 'GRIN018full_session_analysis.h5']"
   ]
  },
  {
   "cell_type": "code",
   "execution_count": 4,
   "metadata": {},
   "outputs": [],
   "source": [
    "# load and concactenate ISIs distributions & plot\n",
    "wt_results = []\n",
    "for session_file in wt_analysis:\n",
    "    wt_results.append(h5py.File(folder_path+session_file, 'r'))"
   ]
  },
  {
   "cell_type": "code",
   "execution_count": 5,
   "metadata": {},
   "outputs": [],
   "source": [
    "# load and concactenate ISIs distributions & plot\n",
    "ko_results = []\n",
    "for session_file in ko_analysis:\n",
    "    ko_results.append(h5py.File(folder_path+session_file, 'r'))"
   ]
  },
  {
   "cell_type": "code",
   "execution_count": 6,
   "metadata": {},
   "outputs": [],
   "source": [
    "wt_ISIs = np.hstack([wt_results[0]['ISI_distribution'], wt_results[1]['ISI_distribution'], wt_results[2]['ISI_distribution']])"
   ]
  },
  {
   "cell_type": "code",
   "execution_count": 7,
   "metadata": {},
   "outputs": [],
   "source": [
    "ko_ISIs = np.hstack([ko_results[0]['ISI_distribution'], ko_results[1]['ISI_distribution'], ko_results[2]['ISI_distribution']])"
   ]
  },
  {
   "cell_type": "code",
   "execution_count": 8,
   "metadata": {},
   "outputs": [
    {
     "data": {
      "text/plain": [
       "48.39569795427196"
      ]
     },
     "execution_count": 8,
     "metadata": {},
     "output_type": "execute_result"
    }
   ],
   "source": [
    "np.mean(wt_ISIs)"
   ]
  },
  {
   "cell_type": "code",
   "execution_count": 9,
   "metadata": {},
   "outputs": [
    {
     "data": {
      "text/plain": [
       "35.214159038901606"
      ]
     },
     "execution_count": 9,
     "metadata": {},
     "output_type": "execute_result"
    }
   ],
   "source": [
    "np.mean(ko_ISIs)"
   ]
  },
  {
   "cell_type": "code",
   "execution_count": 33,
   "metadata": {},
   "outputs": [
    {
     "data": {
      "image/png": "[encoded data removed]",
      "text/plain": [
       "<Figure size 324x288 with 1 Axes>"
      ]
     },
     "metadata": {
      "needs_background": "light"
     },
     "output_type": "display_data"
    }
   ],
   "source": [
    "fig, ax = plt.subplots(figsize=(4.5, 4))\n",
    "n, bins, patches = ax.hist(wt_ISIs, bins='auto', density=True, histtype='step',\n",
    "                           cumulative=True, label='Empirical', linewidth=2)\n",
    "n, bins, patches = ax.hist(ko_ISIs, bins='auto', density=True, histtype='step',\n",
    "                           cumulative=True, label='Empirical', linewidth=2, color='r')\n",
    "plt.ylabel('Cumulative probability')\n",
    "plt.xlabel('Fluorescence inter-event interval')\n",
    "plt.draw()\n",
    "plt.savefig('/Users/johnmarshall/Documents/Presentations/SFN/scope_ISIs.png')\n",
    "plt.savefig('/Users/johnmarshall/Documents/Presentations/SFN/scope_ISIs.svg', transparent=True, format=\"svg\")"
   ]
  },
  {
   "cell_type": "code",
   "execution_count": 22,
   "metadata": {},
   "outputs": [],
   "source": [
    "# same for jaacard index\n",
    "wt_jaccard_scores = np.hstack([wt_results[0]['jaccard_scores'], wt_results[1]['jaccard_scores'], wt_results[2]['jaccard_scores']])"
   ]
  },
  {
   "cell_type": "code",
   "execution_count": 23,
   "metadata": {},
   "outputs": [],
   "source": [
    "ko_jaccard_scores = np.hstack([ko_results[0]['jaccard_scores'], ko_results[1]['jaccard_scores'], ko_results[2]['jaccard_scores']])"
   ]
  },
  {
   "cell_type": "code",
   "execution_count": 34,
   "metadata": {},
   "outputs": [
    {
     "data": {
      "image/png": "[encoded data removed]",
      "text/plain": [
       "<Figure size 324x288 with 1 Axes>"
      ]
     },
     "metadata": {
      "needs_background": "light"
     },
     "output_type": "display_data"
    }
   ],
   "source": [
    "fig, ax = plt.subplots(figsize=(4.5, 4))\n",
    "n, bins, patches = ax.hist(wt_jaccard_scores, bins='auto', density=True, histtype='step',\n",
    "                           cumulative=True, label='Empirical', linewidth=2)\n",
    "n, bins, patches = ax.hist(ko_jaccard_scores, bins='auto', density=True, histtype='step',\n",
    "                           cumulative=True, label='Empirical', linewidth=2, color='r')\n",
    "plt.ylabel('Cumulative probability')\n",
    "plt.xlabel('Jaccard similarity score (200msec bins)')\n",
    "plt.draw()\n",
    "plt.savefig('/Users/johnmarshall/Documents/Presentations/SFN/scope_similarity.png')\n",
    "plt.savefig('/Users/johnmarshall/Documents/Presentations/SFN/scope_similarity.svg', transparent=True, format=\"svg\")"
   ]
  },
  {
   "cell_type": "code",
   "execution_count": null,
   "metadata": {},
   "outputs": [],
   "source": []
  }
 ],
 "metadata": {
  "kernelspec": {
   "display_name": "Python [conda env:caiman]",
   "language": "python",
   "name": "conda-env-caiman-py"
  },
  "language_info": {
   "codemirror_mode": {
    "name": "ipython",
    "version": 3
   },
   "file_extension": ".py",
   "mimetype": "text/x-python",
   "name": "python",
   "nbconvert_exporter": "python",
   "pygments_lexer": "ipython3",
   "version": "3.6.8"
  }
 },
 "nbformat": 4,
 "nbformat_minor": 2
}
