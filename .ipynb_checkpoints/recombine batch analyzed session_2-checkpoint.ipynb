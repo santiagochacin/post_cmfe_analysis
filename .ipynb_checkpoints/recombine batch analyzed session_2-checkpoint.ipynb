{
 "cells": [
  {
   "cell_type": "code",
   "execution_count": null,
   "metadata": {},
   "outputs": [],
   "source": [
    "from IPython.core.display import display, HTML\n",
    "display(HTML(\"<style>.container { width:70% !important; }</style>\"))"
   ]
  },
  {
   "cell_type": "code",
   "execution_count": null,
   "metadata": {},
   "outputs": [],
   "source": [
    "import numpy as np\n",
    "from matplotlib import pyplot as plt\n",
    "import itertools\n",
    "import scipy.spatial.distance as dist\n",
    "import datetime\n",
    "import scipy.stats as stats\n",
    "import sklearn.metrics as skm\n",
    "\n",
    "import sys\n",
    "import h5py\n",
    "sys.path.append('/Users/johnmarshall/Documents/MATLAB/CNMF_E_jjm/python_wrapper/')\n",
    "sys.path.append('/Users/johnmarshall/caiman_data/post_cnmfe_analysis')\n",
    "import miniscope_analysis as ma \n",
    "import python_utils_jjm as utils_jjm\n",
    "import jjm_post_cnmfe_fns as jjm\n",
    "import align_msCam_tobehavior as align_tracking"
   ]
  },
  {
   "cell_type": "code",
   "execution_count": null,
   "metadata": {},
   "outputs": [],
   "source": [
    "# function to get z scores and save hdf file for each session \n",
    "def save_zscore_tohdf(folder_path, results_file):\n",
    "#results_file = '/Volumes/My_Passport/cnmfe_analysis_files/GRIN026/memmap_0000memmap_0004_resized_source_extraction_run05/out.mat'\n",
    "    mat_results = ma.miniscope_session(folder_path + results_file)\n",
    "\n",
    "## add information about recording session \n",
    "    mat_results.session_info['mouse'] = 'GRIN012'\n",
    "    mat_results.session_info['recording_date'] = '03_2019'\n",
    "    mat_results.session_info['framerate_fps'] = 20\n",
    "\n",
    "    mat_results.session_info\n",
    "\n",
    "    np.shape(mat_results.cnmfe_results['C'])\n",
    "\n",
    "#plot traces from CNMFE object \n",
    "#neurons_idx = range(0, 3)\n",
    "#plot_traces(mat_results, range(1, 2), (0, 5000), ['C', 'C_raw'], normalize=True, fsize=(20,10))\n",
    "## plot distribution of interspike intervals \n",
    "#plt.plot(results.cnmfe_results['C'][1][:])\n",
    "# z scored \n",
    "#z_scores_by_cell = stats.zscore(mat_results.cnmfe_results['C'][3][:])\n",
    "#plt.plot(z_scores_by_cell)\n",
    "\n",
    "#create hdf5 file for analysis results\n",
    "    hf_file = h5py.File(folder_path + mat_results.session_info['mouse']+mat_results.session_info['recording_date']+str(datetime.datetime.now()).split('.')[0].replace(\" \",\"_\")+'.h5', 'w') \n",
    "    results = hf_file.create_group('analysis results')\n",
    "    info = hf_file.create_group('info')\n",
    "\n",
    "\n",
    "#get z score of each cell in recording\n",
    "    z_scored = np.zeros((len(mat_results.cnmfe_results['C']), len(mat_results.cnmfe_results['C'][1])))\n",
    "    for cell in range(len(mat_results.cnmfe_results['C'])):\n",
    "        z_scored[cell, :] = stats.zscore(mat_results.cnmfe_results['C'][cell])\n",
    "\n",
    "    results['C_Z_scored'] = z_scored\n",
    "\n",
    "## save hdf5 before next analysis\n",
    "    hf_file.close()\n",
    "    return(mat_results)"
   ]
  },
  {
   "cell_type": "code",
   "execution_count": null,
   "metadata": {},
   "outputs": [],
   "source": [
    "# clean each matlab session \n",
    "\n",
    "# load multiple sessions \n",
    "folder_paths = ['/Users/johnmarshall/Documents/Analysis/MiniscopeMovies/GRIN012/H16_M57_S23/',\n",
    "                '/Users/johnmarshall/Documents/Analysis/MiniscopeMovies/GRIN012/H16_M57_S23/',\n",
    "                '/Users/johnmarshall/Documents/Analysis/MiniscopeMovies/GRIN012/H16_M57_S23/',\n",
    "                '/Users/johnmarshall/Documents/Analysis/MiniscopeMovies/GRIN012/H16_M57_S23/']\n",
    "                #'/Users/johnmarshall/Documents/Analysis/MiniscopeMovies/GRIN012/H16_M57_S23/']"
   ]
  },
  {
   "cell_type": "code",
   "execution_count": null,
   "metadata": {},
   "outputs": [],
   "source": [
    "_0_5000 = ma.miniscope_session(folder_paths[0] + '1.mat_out.mat')\n",
    "_5000_10000 = ma.miniscope_session(folder_paths[1] + '2.mat_out.mat')\n",
    "_10000_15000 = ma.miniscope_session(folder_paths[2] + '3.mat_out.mat')\n",
    "_15000_20000 = ma.miniscope_session(folder_paths[3] + '4.mat_out.mat')\n",
    "#_20000_25000 = ma.miniscope_session(folder_paths[4] + '5.mat_out.mat')\n",
    "\n",
    "sessions = [_0_5000, _5000_10000, _10000_15000, _15000_20000]\n",
    "#_20000_25000]"
   ]
  },
  {
   "cell_type": "code",
   "execution_count": null,
   "metadata": {},
   "outputs": [],
   "source": [
    "# save hdf5 file with z scores for each session \n",
    "save_zscore_tohdf(folder_paths[1], '1.mat_out.mat')"
   ]
  },
  {
   "cell_type": "code",
   "execution_count": null,
   "metadata": {},
   "outputs": [],
   "source": [
    "save_zscore_tohdf(folder_paths[1], '2.mat_out.mat')"
   ]
  },
  {
   "cell_type": "code",
   "execution_count": null,
   "metadata": {},
   "outputs": [],
   "source": [
    "save_zscore_tohdf(folder_paths[1], '3.mat_out.mat')"
   ]
  },
  {
   "cell_type": "code",
   "execution_count": null,
   "metadata": {},
   "outputs": [],
   "source": [
    "save_zscore_tohdf(folder_paths[1], '4.mat_out.mat')"
   ]
  },
  {
   "cell_type": "code",
   "execution_count": null,
   "metadata": {},
   "outputs": [],
   "source": [
    "save_zscore_tohdf(folder_paths[1], '5.mat_out.mat')"
   ]
  },
  {
   "cell_type": "code",
   "execution_count": null,
   "metadata": {},
   "outputs": [],
   "source": [
    "# get centers of mass for each neuron\n",
    "plt.rcParams['figure.figsize'] = [5, 5]\n",
    "coordinates = []\n",
    "for session in sessions:\n",
    "    coordinates.append(utils_jjm.plot_contours(session.cnmfe_results['A'].todense(), session.cnmfe_results['Cn'], list_to_plot=range(np.shape(session.cnmfe_results['C'])[0]), display_numbers=True, maxthr=.6,cmap='gray', colors='r'))\n",
    "\n",
    "coordinates = np.array(coordinates)\n"
   ]
  },
  {
   "cell_type": "code",
   "execution_count": null,
   "metadata": {},
   "outputs": [],
   "source": [
    "#plt.rcParams['figure.figsize'] = [20, 20]\n",
    "#for session, color in zip([sessions[0], sessions[1]], ['r', 'b']):\n",
    "    #utils_jjm.plot_contours(session.cnmfe_results['A'].todense(), session.cnmfe_results['Cn'], list_to_plot=[1, 5], display_numbers=True, maxthr=.6,cmap='gray', colors=color)"
   ]
  },
  {
   "cell_type": "code",
   "execution_count": null,
   "metadata": {},
   "outputs": [],
   "source": [
    "# combine based on center of mass similarity \n",
    "# get centers of mass across all sessions \n",
    "coms = [] \n",
    "for session_coordinates in coordinates:\n",
    "    coms.append([session_coordinates[x]['CoM'] for x in range(np.shape(session_coordinates)[0])])\n",
    "np.array(coms)\n",
    "\n",
    "coms_by_cell = {}\n",
    "for session_num in range(len(coms)):\n",
    "    for x in range(np.shape(coms[session_num])[0]):\n",
    "        coms_by_cell[str(session_num)+'.'+str(x)] = coms[session_num][x]"
   ]
  },
  {
   "cell_type": "code",
   "execution_count": null,
   "metadata": {},
   "outputs": [],
   "source": [
    "cell_permutations = np.array(list(itertools.permutations(coms_by_cell.keys(), 2)))"
   ]
  },
  {
   "cell_type": "code",
   "execution_count": null,
   "metadata": {},
   "outputs": [],
   "source": [
    "#compile list of close cell pairs and remove duplicates \n",
    "overlapping_pairs = []\n",
    "for pair in cell_permutations:\n",
    "    if (dist.euclidean(coms_by_cell[pair[0]], coms_by_cell[pair[1]]) < 10) and (pair[0][0] != pair[1][0]):\n",
    "        #check if cell already has a pair in the same session and only replce if distance is smaller\n",
    "        if pair[0] in [pair[0] for pair in overlapping_pairs]:\n",
    "            #print(pair)\n",
    "            #gets the index with existing cell 1 of pair\n",
    "            existing_index = len([pair[0] for pair in overlapping_pairs])-1\n",
    "            #check if existing pair is in the same session\n",
    "            if overlapping_pairs[existing_index][1][0] == pair[1][0]:\n",
    "                #print(overlapping_pairs[existing_index])\n",
    "                #print('    ' + overlapping_pairs[existing_index][1][0])\n",
    "                #print(pair)\n",
    "                #print('    ' + pair[1][0])\n",
    "                #print(coms_by_cell[overlapping_pairs[existing_index]])\n",
    "                #print(coms_by_cell[overlapping_pairs[existing_index]])\n",
    "                if dist.euclidean(coms_by_cell[overlapping_pairs[existing_index][0]], coms_by_cell[overlapping_pairs[existing_index][1]]) > dist.euclidean(coms_by_cell[pair[0]], coms_by_cell[pair[1]]):\n",
    "                    #remove existing index\n",
    "                    overlapping_pairs.pop(existing_index)\n",
    "                    #add existing\n",
    "                    overlapping_pairs.append(pair)\n",
    "            else:\n",
    "                overlapping_pairs.append(pair)\n",
    "        #check if cell was already previously assigned to a pair\n",
    "        elif pair[0] in [pair[1] for pair in overlapping_pairs]:\n",
    "            if pair[1] == overlapping_pairs[[pair[1] for pair in overlapping_pairs].index(pair[0])][0]:\n",
    "                pass\n",
    "        else:\n",
    "            overlapping_pairs.append(pair)\n",
    "# remove other duplicates            \n",
    "for cell in [pair[1] for pair in overlapping_pairs]:\n",
    "    if [pair[1] for pair in overlapping_pairs].count(cell) > 1:\n",
    "        indicies_w_duplicates = [i for i, x in enumerate([pair[1] for pair in overlapping_pairs]) if x == cell]\n",
    "        if dist.euclidean(coms_by_cell[overlapping_pairs[indicies_w_duplicates[0]][0]], coms_by_cell[overlapping_pairs[indicies_w_duplicates[0]][1]]) < dist.euclidean(coms_by_cell[overlapping_pairs[indicies_w_duplicates[1]][0]], coms_by_cell[overlapping_pairs[indicies_w_duplicates[1]][1]]):\n",
    "              overlapping_pairs.pop(indicies_w_duplicates[1])\n",
    "        else:\n",
    "            overlapping_pairs.pop(indicies_w_duplicates[0])\n",
    "                                                                                            "
   ]
  },
  {
   "cell_type": "code",
   "execution_count": null,
   "metadata": {},
   "outputs": [],
   "source": [
    "#overlapping_pairs"
   ]
  },
  {
   "cell_type": "code",
   "execution_count": null,
   "metadata": {},
   "outputs": [],
   "source": [
    "hdf_files_by_session = [folder_paths[0] + 'GRIN01203_20192019-10-15_19:11:14.h5', \n",
    "                        folder_paths[1] + 'GRIN01203_20192019-10-15_19:11:17.h5',\n",
    "                        folder_paths[2] + 'GRIN01203_20192019-10-15_19:11:19.h5',\n",
    "                        folder_paths[3] + 'GRIN01203_20192019-10-15_19:11:21.h5']\n",
    "                        #folder_paths[4] + 'GRIN01203_20192019-10-15_19:02:30.h5']\n",
    "\n",
    "results = []\n",
    "for session_file in hdf_files_by_session:\n",
    "    results.append(h5py.File(session_file, 'r'))\n"
   ]
  },
  {
   "cell_type": "code",
   "execution_count": null,
   "metadata": {},
   "outputs": [],
   "source": [
    "np.shape(results[0]['analysis results']['C_Z_scored'])"
   ]
  },
  {
   "cell_type": "code",
   "execution_count": null,
   "metadata": {},
   "outputs": [],
   "source": [
    "# load hdf5 data with zscores\n",
    "\n",
    "# iterate over sessions\n",
    "\n",
    "#first concactenate subsequent session to session 1 cell \n",
    "\n",
    "full_session = np.zeros((93, 5000*len(results)))\n",
    "#full_session = np.zeros((49, 22000))\n",
    "full_session[:,0:5000] = results[0]['analysis results']['C_Z_scored'][:,:]\n",
    "#loop over all cells found in 1st session\n",
    "for cell in range(np.shape(results[0]['analysis results']['C_Z_scored'])[0]):\n",
    "    #loop over cells in 1st session paired with cells in later sessions\n",
    "    for cell_to_pair in [pair for pair in overlapping_pairs if pair[0] == '0.'+str(cell)]:\n",
    "        #session ID of cell to pair\n",
    "        session_ID = cell_to_pair[1].split('.')[0]\n",
    "        #ID of cell to pair in subeqeunt sessions \n",
    "        cell_ID = cell_to_pair[1].split('.')[1]\n",
    "        #add to full session array\n",
    "        try:\n",
    "            session_length = int(np.shape(results[int(session_ID)]['analysis results']['C_Z_scored'])[1])\n",
    "            full_session[cell, int(5000*int(session_ID)):int((5000*int(session_ID))+session_length)] = results[int(session_ID)]['analysis results']['C_Z_scored'][int(cell_ID)]\n",
    "        except KeyError:\n",
    "            pass\n"
   ]
  },
  {
   "cell_type": "code",
   "execution_count": null,
   "metadata": {},
   "outputs": [],
   "source": [
    "len(full_session)"
   ]
  },
  {
   "cell_type": "code",
   "execution_count": null,
   "metadata": {},
   "outputs": [],
   "source": [
    "#plt.plot(full_session[1])\n",
    "# save full session to hdf5 file\n",
    "full_session_file = h5py.File('/Users/johnmarshall/Documents/Analysis/MiniscopeMovies/GRIN012/H16_M57_S23/fullsession_Z_scored.h5', 'w')\n",
    "full_session_file['C_Z_scored'] = full_session\n",
    "full_session_file.close()"
   ]
  },
  {
   "cell_type": "code",
   "execution_count": null,
   "metadata": {},
   "outputs": [],
   "source": [
    "len(full_session[0])"
   ]
  },
  {
   "cell_type": "code",
   "execution_count": null,
   "metadata": {},
   "outputs": [],
   "source": [
    "#save an analysis results file \n",
    "full_session_analysis = h5py.File('/Users/johnmarshall/Documents/Analysis/MiniscopeMovies/GRIN012/H16_M57_S23/full_session_analysis.h5', 'w')"
   ]
  },
  {
   "cell_type": "code",
   "execution_count": null,
   "metadata": {},
   "outputs": [],
   "source": [
    "#del (full_session_analysis['binned'])\n",
    "#del (full_session_analysis['ISIs'])\n",
    "#del (full_session_analysis['event_times'])"
   ]
  },
  {
   "cell_type": "code",
   "execution_count": null,
   "metadata": {},
   "outputs": [],
   "source": [
    "#bin events over full session \n",
    "fps = 20\n",
    "bin_in_samples = fps*10\n",
    "binned = np.zeros((len(full_session), int((len(full_session[0])/bin_in_samples)-1)))\n",
    "for cell in range(len(full_session)):\n",
    "    binned[cell, :] = utils_jjm.binning_function(bin_in_samples, full_session[cell], 3)\n",
    "full_session_analysis['binned'] = binned"
   ]
  },
  {
   "cell_type": "code",
   "execution_count": null,
   "metadata": {},
   "outputs": [],
   "source": [
    "#get ISI intervals \n",
    "[times, ISIs] = utils_jjm.get_ISIs(full_session, 20, len(full_session), 3)\n",
    "\n",
    "full_session_analysis.create_group('ISIs')\n",
    "full_session_analysis.create_group('event_times')\n",
    "\n",
    "for cell in range(np.shape(ISIs)[0]):\n",
    "    full_session_analysis['ISIs'][str(cell)] = ISIs[cell]\n",
    "for cell in range(np.shape(times)[0]):\n",
    "    full_session_analysis['event_times'][str(cell)] = times[cell]"
   ]
  },
  {
   "cell_type": "code",
   "execution_count": null,
   "metadata": {},
   "outputs": [],
   "source": [
    "#save full distribution of ISIs \n",
    "full_distribution = []\n",
    "for cell in range(len(full_session_analysis['ISIs'])):\n",
    "    full_distribution = np.hstack([full_distribution, full_session_analysis['ISIs'][str(cell)][:]])\n",
    "    \n",
    "full_session_analysis['ISI_distribution'] = full_distribution"
   ]
  },
  {
   "cell_type": "code",
   "execution_count": null,
   "metadata": {},
   "outputs": [],
   "source": [
    "plt.plot(full_session_analysis['binned'][1])\n",
    "plt.show()"
   ]
  },
  {
   "cell_type": "code",
   "execution_count": null,
   "metadata": {},
   "outputs": [],
   "source": [
    "jaccard_scores = []\n",
    "jaccard_pairs = []\n",
    "for pair in itertools.combinations(range(np.shape(full_session_analysis['binned'])[0]),2):\n",
    "    jaccard_pairs.append(pair)\n",
    "    jaccard_scores.append(skm.jaccard_similarity_score(full_session_analysis['binned'][pair[0]], full_session_analysis['binned'][pair[1]]))"
   ]
  },
  {
   "cell_type": "code",
   "execution_count": null,
   "metadata": {},
   "outputs": [],
   "source": [
    "full_session_analysis['jaccard_pairs'] = jaccard_pairs\n",
    "full_session_analysis['jaccard_scores'] = jaccard_scores"
   ]
  },
  {
   "cell_type": "code",
   "execution_count": null,
   "metadata": {},
   "outputs": [],
   "source": [
    "## save hdf5 before next analysis\n",
    "full_session_analysis.close()"
   ]
  },
  {
   "cell_type": "code",
   "execution_count": null,
   "metadata": {},
   "outputs": [],
   "source": [
    "full_session_analysis = h5py.File('/Users/johnmarshall/Documents/Analysis/MiniscopeMovies/GRIN012/H16_M57_S23/full_session_analysis.h5', 'r')"
   ]
  },
  {
   "cell_type": "code",
   "execution_count": null,
   "metadata": {},
   "outputs": [],
   "source": [
    "# plot distribution of jaccard coefficients - similarity index \n",
    "hist_, bin_edges_ = np.histogram(jaccard_scores, bins='auto')\n",
    "plt.hist(jaccard_scores, bins='auto')\n",
    "plt.show()"
   ]
  },
  {
   "cell_type": "code",
   "execution_count": null,
   "metadata": {},
   "outputs": [],
   "source": [
    "np.mean(full_distribution)"
   ]
  },
  {
   "cell_type": "code",
   "execution_count": null,
   "metadata": {},
   "outputs": [],
   "source": [
    "full_session_analysis.close()"
   ]
  },
  {
   "cell_type": "code",
   "execution_count": null,
   "metadata": {},
   "outputs": [],
   "source": []
  },
  {
   "cell_type": "code",
   "execution_count": null,
   "metadata": {},
   "outputs": [],
   "source": []
  },
  {
   "cell_type": "code",
   "execution_count": null,
   "metadata": {},
   "outputs": [],
   "source": []
  }
 ],
 "metadata": {
  "kernelspec": {
   "display_name": "Python [conda env:caiman]",
   "language": "python",
   "name": "conda-env-caiman-py"
  },
  "language_info": {
   "codemirror_mode": {
    "name": "ipython",
    "version": 3
   },
   "file_extension": ".py",
   "mimetype": "text/x-python",
   "name": "python",
   "nbconvert_exporter": "python",
   "pygments_lexer": "ipython3",
   "version": "3.6.8"
  }
 },
 "nbformat": 4,
 "nbformat_minor": 2
}
