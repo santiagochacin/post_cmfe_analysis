{
 "cells": [
  {
   "cell_type": "code",
   "execution_count": 1,
   "metadata": {},
   "outputs": [
    {
     "data": {
      "text/html": [
       "<style>.container { width:85% !important; }</style>"
      ],
      "text/plain": [
       "<IPython.core.display.HTML object>"
      ]
     },
     "metadata": {},
     "output_type": "display_data"
    }
   ],
   "source": [
    "from IPython.core.display import display, HTML\n",
    "display(HTML(\"<style>.container { width:85% !important; }</style>\"))"
   ]
  },
  {
   "cell_type": "code",
   "execution_count": 2,
   "metadata": {},
   "outputs": [],
   "source": [
    "import numpy as np\n",
    "from matplotlib import pyplot as plt\n",
    "import itertools\n",
    "import scipy.spatial.distance as dist\n",
    "import datetime\n",
    "import scipy.stats as stats\n",
    "import sklearn.metrics as skm\n",
    "\n",
    "import sys\n",
    "import h5py\n",
    "sys.path.append('/Users/johnmarshall/Documents/MATLAB/CNMF_E_jjm/python_wrapper/')\n",
    "sys.path.append('/Users/johnmarshall/Documents/Analysis/PythonAnalysisScripts/post_cmfe_analysis/')\n",
    "import miniscope_analysis as ma \n",
    "import python_utils_jjm as utils_jjm\n",
    "import jjm_post_cnmfe_fns as jjm\n",
    "import align_msCam_tobehavior as align_tracking"
   ]
  },
  {
   "cell_type": "code",
   "execution_count": null,
   "metadata": {},
   "outputs": [],
   "source": [
    "## analysis of change in ISIs with movement"
   ]
  },
  {
   "cell_type": "code",
   "execution_count": 17,
   "metadata": {},
   "outputs": [],
   "source": [
    "dirpath = '/Volumes/My_Passport/cnmfe_analysis_files/OpenFieldAnalysis/velocity_correlation_analysis/'\n",
    "wt_analysis = ['GRIN027_binned_events_1sec.h5', 'GRIN026_binned_events.h5', 'GRIN013_binned_events.h5']\n",
    "ko_analysis = ['GRIN018_binned_events.h5', 'GRIN012_binned_events.h5', 'GRIN011_binned_events.h5']"
   ]
  },
  {
   "cell_type": "code",
   "execution_count": 65,
   "metadata": {},
   "outputs": [],
   "source": [
    "#from_file.close()"
   ]
  },
  {
   "cell_type": "code",
   "execution_count": 66,
   "metadata": {},
   "outputs": [],
   "source": [
    "#from_file = h5py.File(dirpath + wt_analysis[0], 'r+')\n",
    "#del from_file['ISI_distribution_moving']\n",
    "#del from_file['ISI_distribution_low_v']"
   ]
  },
  {
   "cell_type": "code",
   "execution_count": 71,
   "metadata": {},
   "outputs": [],
   "source": [
    "#\n",
    "wt_distribution_moving = []\n",
    "wt_distribution_low_v = []\n",
    "for mouse in wt_analysis:\n",
    "    from_file = h5py.File(dirpath + mouse, 'r+')\n",
    "    full_distribution_moving = []\n",
    "    full_distribution_low_v = []\n",
    "    for cell in range(len(from_file['ISIs_moving'])):\n",
    "        full_distribution_moving = np.hstack([full_distribution_moving, from_file['ISIs_moving'][str(cell)][:]])\n",
    "        full_distribution_low_v = np.hstack([full_distribution_low_v, from_file['ISIs_low_v'][str(cell)][:]])\n",
    "    del from_file['ISI_distribution_moving']\n",
    "    del from_file['ISI_distribution_low_v']\n",
    "    from_file['ISI_distribution_moving'] = full_distribution_moving\n",
    "    from_file['ISI_distribution_low_v'] = full_distribution_low_v\n",
    "    from_file.close()\n",
    "    wt_distribution_moving = np.hstack([wt_distribution_moving, full_distribution_moving])\n",
    "    wt_distribution_low_v = np.hstack([wt_distribution_low_v, full_distribution_low_v])"
   ]
  },
  {
   "cell_type": "code",
   "execution_count": 67,
   "metadata": {},
   "outputs": [],
   "source": [
    "#\n",
    "ko_distribution_moving = []\n",
    "ko_distribution_low_v = []\n",
    "for mouse in ko_analysis:\n",
    "    from_file = h5py.File(dirpath + mouse, 'r+')\n",
    "    full_distribution_moving = []\n",
    "    full_distribution_low_v = []\n",
    "    for cell in range(len(from_file['ISIs_moving'])):\n",
    "        full_distribution_moving = np.hstack([full_distribution_moving, from_file['ISIs_moving'][str(cell)][:]])\n",
    "        full_distribution_low_v = np.hstack([full_distribution_low_v, from_file['ISIs_low_v'][str(cell)][:]])\n",
    "    from_file['ISI_distribution_moving'] = full_distribution_moving\n",
    "    from_file['ISI_distribution_low_v'] = full_distribution_low_v\n",
    "    from_file.close()\n",
    "    ko_distribution_moving = np.hstack([ko_distribution_moving, full_distribution_moving])\n",
    "    ko_distribution_low_v = np.hstack([ko_distribution_low_v, full_distribution_low_v])"
   ]
  },
  {
   "cell_type": "code",
   "execution_count": 72,
   "metadata": {},
   "outputs": [
    {
     "data": {
      "text/plain": [
       "314.88709677419354"
      ]
     },
     "execution_count": 72,
     "metadata": {},
     "output_type": "execute_result"
    }
   ],
   "source": [
    "np.mean(wt_distribution_moving)"
   ]
  },
  {
   "cell_type": "code",
   "execution_count": 73,
   "metadata": {},
   "outputs": [
    {
     "data": {
      "text/plain": [
       "811.9442508710802"
      ]
     },
     "execution_count": 73,
     "metadata": {},
     "output_type": "execute_result"
    }
   ],
   "source": [
    "np.mean(wt_distribution_low_v)"
   ]
  },
  {
   "cell_type": "code",
   "execution_count": 140,
   "metadata": {},
   "outputs": [
    {
     "data": {
      "image/png": "[encoded data removed]",
      "text/plain": [
       "<Figure size 324x288 with 1 Axes>"
      ]
     },
     "metadata": {
      "needs_background": "light"
     },
     "output_type": "display_data"
    }
   ],
   "source": [
    "fig, ax = plt.subplots(figsize=(4.5, 4))\n",
    "n, bins, patches = ax.hist(wt_distribution_moving*.2, bins='auto', density=True, histtype='step', cumulative=True, label='Empirical', linewidth=2, color='b')\n",
    "n, bins, patches = ax.hist(ko_distribution_moving*.2, bins='auto', density=True, histtype='step', cumulative=True, label='Empirical', linewidth=2, color='r')\n",
    "plt.ylabel('Cumulative probability')\n",
    "plt.xlabel('Fluorescence inter-event interval (sec)')\n",
    "plt.xlim(-100, 2800)\n",
    "plt.draw()\n",
    "plt.savefig('/Users/johnmarshall/Documents/Presentations/October2019LabMeeting/moving_ISIs.png')\n",
    "plt.savefig('/Users/johnmarshall/Documents/Presentations/October2019LabMeeting/moving_ISIs.svg', transparent=True, format=\"svg\")"
   ]
  },
  {
   "cell_type": "code",
   "execution_count": 141,
   "metadata": {},
   "outputs": [
    {
     "data": {
      "image/png": "[encoded data removed]",
      "text/plain": [
       "<Figure size 324x288 with 1 Axes>"
      ]
     },
     "metadata": {
      "needs_background": "light"
     },
     "output_type": "display_data"
    }
   ],
   "source": [
    "fig, ax = plt.subplots(figsize=(4.5, 4))\n",
    "n, bins, patches = ax.hist(wt_distribution_low_v*.2, bins='auto', density=True, histtype='step', cumulative=True, label='Empirical', linewidth=2, color='b')\n",
    "n, bins, patches = ax.hist(ko_distribution_low_v*.2, bins='auto', density=True, histtype='step', cumulative=True, label='Empirical', linewidth=2, color='r')\n",
    "plt.ylabel('Cumulative probability')\n",
    "plt.xlabel('Fluorescence inter-event interval (sec)')\n",
    "plt.xlim(-100, 2800)\n",
    "plt.xlim()\n",
    "plt.draw()\n",
    "plt.savefig('/Users/johnmarshall/Documents/Presentations/October2019LabMeeting/resting_ISIs.png')\n",
    "plt.savefig('/Users/johnmarshall/Documents/Presentations/October2019LabMeeting/resting_ISIs.svg', transparent=True, format=\"svg\")"
   ]
  },
  {
   "cell_type": "code",
   "execution_count": 115,
   "metadata": {},
   "outputs": [],
   "source": [
    "means_moving_wt = []\n",
    "means_rest_wt = []\n",
    "for mouse in wt_analysis:\n",
    "    from_file = h5py.File(dirpath + mouse, 'r')\n",
    "    means_moving_wt.append(np.mean(from_file['ISI_distribution_moving']))\n",
    "    means_rest_wt.append(np.mean(from_file['ISI_distribution_low_v']))\n",
    "    from_file.close()\n",
    "means_moving_wt = np.array(means_moving_wt)*.2\n",
    "means_rest_wt = np.array(means_rest_wt)*.2"
   ]
  },
  {
   "cell_type": "code",
   "execution_count": 116,
   "metadata": {},
   "outputs": [],
   "source": [
    "means_moving_ko = []\n",
    "means_rest_ko = []\n",
    "for mouse in ko_analysis:\n",
    "    from_file = h5py.File(dirpath + mouse, 'r')\n",
    "    means_moving_ko.append(np.mean(from_file['ISI_distribution_moving']))\n",
    "    means_rest_ko.append(np.mean(from_file['ISI_distribution_low_v']))\n",
    "    from_file.close()\n",
    "means_moving_ko = np.array(means_moving_ko)*.2\n",
    "means_rest_ko = np.array(means_rest_ko)*.2"
   ]
  },
  {
   "cell_type": "code",
   "execution_count": 122,
   "metadata": {},
   "outputs": [
    {
     "data": {
      "text/plain": [
       "array([99.36952381, 44.60736842, 40.92      ])"
      ]
     },
     "execution_count": 122,
     "metadata": {},
     "output_type": "execute_result"
    }
   ],
   "source": [
    "means_moving_wt"
   ]
  },
  {
   "cell_type": "code",
   "execution_count": 123,
   "metadata": {},
   "outputs": [
    {
     "data": {
      "text/plain": [
       "array([101.796     , 160.62014388, 197.59626168])"
      ]
     },
     "execution_count": 123,
     "metadata": {},
     "output_type": "execute_result"
    }
   ],
   "source": [
    "means_rest_wt"
   ]
  },
  {
   "cell_type": "code",
   "execution_count": 124,
   "metadata": {},
   "outputs": [
    {
     "data": {
      "text/plain": [
       "array([ 69.3722449 ,  50.71372549, 118.12      ])"
      ]
     },
     "execution_count": 124,
     "metadata": {},
     "output_type": "execute_result"
    }
   ],
   "source": [
    "means_moving_ko"
   ]
  },
  {
   "cell_type": "code",
   "execution_count": 125,
   "metadata": {},
   "outputs": [
    {
     "data": {
      "text/plain": [
       "array([ 97.75242567,  99.49610984, 172.49333333])"
      ]
     },
     "execution_count": 125,
     "metadata": {},
     "output_type": "execute_result"
    }
   ],
   "source": [
    "means_rest_ko"
   ]
  },
  {
   "cell_type": "code",
   "execution_count": 126,
   "metadata": {},
   "outputs": [],
   "source": [
    "means_rest_wt_plot = [(x,y) for (x,y) in zip(np.ones(len(means_rest_wt)), means_rest_wt)]\n",
    "means_moving_wt_plot = [(2*x,y) for (x,y) in zip(np.ones(len(means_moving_wt)), means_moving_wt)]"
   ]
  },
  {
   "cell_type": "code",
   "execution_count": 134,
   "metadata": {},
   "outputs": [
    {
     "data": {
      "image/png": "[encoded data removed]",
      "text/plain": [
       "<Figure size 288x360 with 1 Axes>"
      ]
     },
     "metadata": {
      "needs_background": "light"
     },
     "output_type": "display_data"
    }
   ],
   "source": [
    "plt.figure(figsize=(4,5), frameon=True)\n",
    "plt.scatter([means_rest_wt_plot[x][0] for x in range(len(means_rest_wt_plot))],\n",
    "           [means_rest_wt_plot[y][1] for y in range(len(means_rest_wt_plot))], s=200, marker='s', edgecolors='k')\n",
    "plt.scatter([means_moving_wt_plot[x][0] for x in range(len(means_moving_wt_plot))],\n",
    "           [means_moving_wt_plot[y][1] for y in range(len(means_moving_wt_plot))], s=200, marker='s', edgecolors='k')\n",
    "ax = plt.gca()\n",
    "ax.set_xlim([0, 3])\n",
    "ax.set_ylim([0, 250])\n",
    "ax.spines[\"top\"].set_visible(False)\n",
    "ax.spines[\"right\"].set_visible(False)\n",
    "plt.ylabel('ISI (sec)')\n",
    "plt.draw()\n",
    "plt.savefig('/Users/johnmarshall/Documents/Presentations/October2019LabMeeting/wt_ISIs.png')\n",
    "plt.savefig('/Users/johnmarshall/Documents/Presentations/October2019LabMeeting/wt_ISIs.svg', transparent=True, format=\"svg\")"
   ]
  },
  {
   "cell_type": "code",
   "execution_count": 135,
   "metadata": {},
   "outputs": [],
   "source": [
    "means_rest_ko_plot = [(x,y) for (x,y) in zip(np.ones(len(means_rest_ko)), means_rest_ko)]\n",
    "means_moving_ko_plot = [(2*x,y) for (x,y) in zip(np.ones(len(means_moving_ko)), means_moving_ko)]"
   ]
  },
  {
   "cell_type": "code",
   "execution_count": 136,
   "metadata": {},
   "outputs": [
    {
     "data": {
      "image/png": "[encoded data removed]",
      "text/plain": [
       "<Figure size 288x360 with 1 Axes>"
      ]
     },
     "metadata": {
      "needs_background": "light"
     },
     "output_type": "display_data"
    }
   ],
   "source": [
    "plt.figure(figsize=(4,5), frameon=True)\n",
    "plt.scatter([means_rest_ko_plot[x][0] for x in range(len(means_rest_ko_plot))],\n",
    "           [means_rest_ko_plot[y][1] for y in range(len(means_rest_ko_plot))], s=200, marker='s', edgecolors='k')\n",
    "plt.scatter([means_moving_ko_plot[x][0] for x in range(len(means_moving_ko_plot))],\n",
    "           [means_moving_ko_plot[y][1] for y in range(len(means_moving_ko_plot))], s=200, marker='s', edgecolors='k')\n",
    "ax = plt.gca()\n",
    "ax.set_xlim([0, 3])\n",
    "ax.set_ylim([0, 250])\n",
    "ax.spines[\"top\"].set_visible(False)\n",
    "ax.spines[\"right\"].set_visible(False)\n",
    "plt.ylabel('ISI (sec)')\n",
    "plt.draw()\n",
    "plt.savefig('/Users/johnmarshall/Documents/Presentations/October2019LabMeeting/ko_ISIs.png')\n",
    "plt.savefig('/Users/johnmarshall/Documents/Presentations/October2019LabMeeting/ko_ISIs.svg', transparent=True, format=\"svg\")"
   ]
  },
  {
   "cell_type": "code",
   "execution_count": null,
   "metadata": {},
   "outputs": [],
   "source": [
    "#ISI unbinned analysis"
   ]
  },
  {
   "cell_type": "code",
   "execution_count": null,
   "metadata": {},
   "outputs": [],
   "source": [
    "#save full distribution of ISIs \n",
    "full_distribution = []\n",
    "for cell in range(len(full_session_analysis['ISIs'])):\n",
    "    full_distribution = np.hstack([full_distribution, full_session_analysis['ISIs'][str(cell)][:]])\n",
    "    \n",
    "full_session_analysis['ISI_distribution'] = full_distribution"
   ]
  },
  {
   "cell_type": "code",
   "execution_count": null,
   "metadata": {},
   "outputs": [],
   "source": [
    "folder_path = '/Users/johnmarshall/Documents/Analysis/MiniscopeMovies/OpenFieldAnalysis/'\n",
    "\n",
    "wt_analysis = ['GRIN026_full_session_analysis.h5', 'GRIN013_full_session_analysis.h5', 'GRIN027_full_session_analysis.h5']\n",
    "ko_analysis = ['GRIN011_full_session_analysis.h5', 'GRIN012_full_session_analysis.h5', 'GRIN018full_session_analysis.h5']"
   ]
  },
  {
   "cell_type": "code",
   "execution_count": null,
   "metadata": {},
   "outputs": [],
   "source": [
    "# load and concactenate ISIs distributions & plot\n",
    "wt_results = []\n",
    "for session_file in wt_analysis:\n",
    "    wt_results.append(h5py.File(folder_path+session_file, 'r'))"
   ]
  },
  {
   "cell_type": "code",
   "execution_count": null,
   "metadata": {},
   "outputs": [],
   "source": [
    "# load and concactenate ISIs distributions & plot\n",
    "ko_results = []\n",
    "for session_file in ko_analysis:\n",
    "    ko_results.append(h5py.File(folder_path+session_file, 'r'))"
   ]
  },
  {
   "cell_type": "code",
   "execution_count": null,
   "metadata": {},
   "outputs": [],
   "source": [
    "wt_ISIs = np.hstack([wt_results[0]['ISI_distribution'], wt_results[1]['ISI_distribution'], wt_results[2]['ISI_distribution']])"
   ]
  },
  {
   "cell_type": "code",
   "execution_count": null,
   "metadata": {},
   "outputs": [],
   "source": [
    "ko_ISIs = np.hstack([ko_results[0]['ISI_distribution'], ko_results[1]['ISI_distribution'], ko_results[2]['ISI_distribution']])"
   ]
  },
  {
   "cell_type": "code",
   "execution_count": null,
   "metadata": {},
   "outputs": [],
   "source": [
    "np.mean(wt_ISIs)"
   ]
  },
  {
   "cell_type": "code",
   "execution_count": null,
   "metadata": {},
   "outputs": [],
   "source": [
    "np.mean(ko_ISIs)"
   ]
  },
  {
   "cell_type": "code",
   "execution_count": null,
   "metadata": {},
   "outputs": [],
   "source": [
    "fig, ax = plt.subplots(figsize=(4.5, 4))\n",
    "n, bins, patches = ax.hist(wt_ISIs, bins='auto', density=True, histtype='step',\n",
    "                           cumulative=True, label='Empirical', linewidth=2)\n",
    "n, bins, patches = ax.hist(ko_ISIs, bins='auto', density=True, histtype='step',\n",
    "                           cumulative=True, label='Empirical', linewidth=2, color='r')\n",
    "plt.ylabel('Cumulative probability')\n",
    "plt.xlabel('Fluorescence inter-event interval')\n",
    "plt.draw()\n",
    "plt.savefig('/Users/johnmarshall/Documents/Presentations/SFN/scope_ISIs.png')\n",
    "plt.savefig('/Users/johnmarshall/Documents/Presentations/SFN/scope_ISIs.svg', transparent=True, format=\"svg\")"
   ]
  },
  {
   "cell_type": "code",
   "execution_count": null,
   "metadata": {},
   "outputs": [],
   "source": [
    "# same for jaacard index\n",
    "wt_jaccard_scores = np.hstack([wt_results[0]['jaccard_scores'], wt_results[1]['jaccard_scores'], wt_results[2]['jaccard_scores']])"
   ]
  },
  {
   "cell_type": "code",
   "execution_count": null,
   "metadata": {},
   "outputs": [],
   "source": [
    "ko_jaccard_scores = np.hstack([ko_results[0]['jaccard_scores'], ko_results[1]['jaccard_scores'], ko_results[2]['jaccard_scores']])"
   ]
  },
  {
   "cell_type": "code",
   "execution_count": null,
   "metadata": {},
   "outputs": [],
   "source": [
    "fig, ax = plt.subplots(figsize=(4.5, 4))\n",
    "n, bins, patches = ax.hist(wt_jaccard_scores, bins='auto', density=True, histtype='step',\n",
    "                           cumulative=True, label='Empirical', linewidth=2)\n",
    "n, bins, patches = ax.hist(ko_jaccard_scores, bins='auto', density=True, histtype='step',\n",
    "                           cumulative=True, label='Empirical', linewidth=2, color='r')\n",
    "plt.ylabel('Cumulative probability')\n",
    "plt.xlabel('Jaccard similarity score (200msec bins)')\n",
    "plt.draw()\n",
    "plt.savefig('/Users/johnmarshall/Documents/Presentations/SFN/scope_similarity.png')\n",
    "plt.savefig('/Users/johnmarshall/Documents/Presentations/SFN/scope_similarity.svg', transparent=True, format=\"svg\")"
   ]
  },
  {
   "cell_type": "code",
   "execution_count": null,
   "metadata": {},
   "outputs": [],
   "source": []
  }
 ],
 "metadata": {
  "kernelspec": {
   "display_name": "Python [conda env:caiman]",
   "language": "python",
   "name": "conda-env-caiman-py"
  },
  "language_info": {
   "codemirror_mode": {
    "name": "ipython",
    "version": 3
   },
   "file_extension": ".py",
   "mimetype": "text/x-python",
   "name": "python",
   "nbconvert_exporter": "python",
   "pygments_lexer": "ipython3",
   "version": "3.6.8"
  }
 },
 "nbformat": 4,
 "nbformat_minor": 2
}
