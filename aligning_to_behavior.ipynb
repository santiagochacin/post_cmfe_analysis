{
 "cells": [
  {
   "cell_type": "code",
   "execution_count": 3,
   "metadata": {},
   "outputs": [],
   "source": [
    "import numpy as np\n",
    "import h5py"
   ]
  },
  {
   "cell_type": "code",
   "execution_count": 4,
   "metadata": {},
   "outputs": [],
   "source": [
    "dir_path = '/Volumes/My_Passport/cnmfe_analysis_files/OpenFieldAnalysis/'"
   ]
  },
  {
   "cell_type": "code",
   "execution_count": 5,
   "metadata": {},
   "outputs": [],
   "source": [
    "session = 'GRIN026_fullsession_Z_scored.h5'\n",
    "from_file = h5py.File(dir_path+session, 'r')"
   ]
  },
  {
   "cell_type": "code",
   "execution_count": 8,
   "metadata": {},
   "outputs": [
    {
     "data": {
      "text/plain": [
       "['C_Z_scored']"
      ]
     },
     "execution_count": 8,
     "metadata": {},
     "output_type": "execute_result"
    }
   ],
   "source": [
    "list(from_file.keys())"
   ]
  },
  {
   "cell_type": "code",
   "execution_count": 11,
   "metadata": {},
   "outputs": [
    {
     "data": {
      "text/plain": [
       "array([[-0.14706975, -0.15776947, -0.16811928, ..., -0.38613761,\n",
       "        -0.3921954 , -0.39806171],\n",
       "       [ 0.09973755,  0.06235728,  0.02753476, ...,  0.        ,\n",
       "         0.        ,  0.        ],\n",
       "       [-0.05289823, -0.06244408, -0.07169648, ...,  0.27040285,\n",
       "         0.2197632 ,  0.17206729],\n",
       "       ...,\n",
       "       [ 0.36721192,  0.30987391,  0.25463478, ..., -0.3359412 ,\n",
       "        -0.45864498, -0.56944495],\n",
       "       [-0.00534639, -0.05441264, -0.1006669 , ...,  0.        ,\n",
       "         0.        ,  0.        ],\n",
       "       [-0.61472409,  0.47523866,  0.39721035, ...,  0.        ,\n",
       "         0.        ,  0.        ]])"
      ]
     },
     "execution_count": 11,
     "metadata": {},
     "output_type": "execute_result"
    }
   ],
   "source": [
    "from_file['C_Z_scored'][:]"
   ]
  },
  {
   "cell_type": "code",
   "execution_count": null,
   "metadata": {},
   "outputs": [],
   "source": []
  }
 ],
 "metadata": {
  "kernelspec": {
   "display_name": "Python [conda env:caiman]",
   "language": "python",
   "name": "conda-env-caiman-py"
  },
  "language_info": {
   "codemirror_mode": {
    "name": "ipython",
    "version": 3
   },
   "file_extension": ".py",
   "mimetype": "text/x-python",
   "name": "python",
   "nbconvert_exporter": "python",
   "pygments_lexer": "ipython3",
   "version": "3.6.8"
  }
 },
 "nbformat": 4,
 "nbformat_minor": 2
}
